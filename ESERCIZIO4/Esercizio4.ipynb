{
 "cells": [
  {
   "cell_type": "markdown",
   "metadata": {},
   "source": [
    "## ESERCIZIO 4"
   ]
  },
  {
   "cell_type": "markdown",
   "metadata": {},
   "source": [
    "La prima cosa da fare è l'import delle librerie necessarie per poter creare i modelli"
   ]
  },
  {
   "cell_type": "code",
   "execution_count": 1,
   "metadata": {},
   "outputs": [
    {
     "name": "stdout",
     "output_type": "stream",
     "text": [
      "Populating the interactive namespace from numpy and matplotlib\n"
     ]
    }
   ],
   "source": [
    "# Libreria utilizzata in questo caso per istanziare un oggetto dataframe partendo da un csv di input\n",
    "import pandas as pd\n",
    "# Libreria che gestisce gli oggetti array\n",
    "import numpy as np\n",
    "# Libreria che serve per visualizzare i dati\n",
    "import matplotlib.pyplot as plt\n",
    "# Varie librerie utilizzate per modellare i dati e valutare i modelli\n",
    "from sklearn.preprocessing import StandardScaler\n",
    "from sklearn.model_selection import train_test_split\n",
    "from sklearn.metrics import classification_report,confusion_matrix\n",
    "from sklearn.model_selection import cross_val_score, cross_val_predict\n",
    "from sklearn.neighbors import KNeighborsClassifier\n",
    "from sklearn.tree import DecisionTreeClassifier\n",
    "from sklearn.ensemble import RandomForestClassifier\n",
    "from sklearn.linear_model import LogisticRegression\n",
    "from sklearn.feature_selection import RFE\n",
    "# Questa è una magic function che ci permette di visualizzare i plot senza dover chiamare il metodo show() \n",
    "%pylab inline"
   ]
  },
  {
   "cell_type": "markdown",
   "metadata": {},
   "source": [
    "La funzione **read_csv** legge il csv in input e ritorna un Dataframe"
   ]
  },
  {
   "cell_type": "code",
   "execution_count": 2,
   "metadata": {},
   "outputs": [],
   "source": [
    "df = pd.read_csv('Downloads/dataset_prediction.csv')"
   ]
  },
  {
   "cell_type": "markdown",
   "metadata": {},
   "source": [
    "La funzione **head()**, analogamente a *R*, mostra le prime 5 righe del DataFrame (valore di default)"
   ]
  },
  {
   "cell_type": "code",
   "execution_count": 3,
   "metadata": {},
   "outputs": [
    {
     "data": {
      "text/html": [
       "<div>\n",
       "<style scoped>\n",
       "    .dataframe tbody tr th:only-of-type {\n",
       "        vertical-align: middle;\n",
       "    }\n",
       "\n",
       "    .dataframe tbody tr th {\n",
       "        vertical-align: top;\n",
       "    }\n",
       "\n",
       "    .dataframe thead th {\n",
       "        text-align: right;\n",
       "    }\n",
       "</style>\n",
       "<table border=\"1\" class=\"dataframe\">\n",
       "  <thead>\n",
       "    <tr style=\"text-align: right;\">\n",
       "      <th></th>\n",
       "      <th>id</th>\n",
       "      <th>repaga</th>\n",
       "      <th>quote</th>\n",
       "      <th>good_q</th>\n",
       "      <th>bad_q</th>\n",
       "      <th>suff_q</th>\n",
       "      <th>request</th>\n",
       "      <th>follow_up</th>\n",
       "      <th>rev_approved</th>\n",
       "      <th>foto_profilo</th>\n",
       "      <th>linkedin</th>\n",
       "      <th>facebook</th>\n",
       "      <th>website</th>\n",
       "      <th>has_description</th>\n",
       "    </tr>\n",
       "  </thead>\n",
       "  <tbody>\n",
       "    <tr>\n",
       "      <th>0</th>\n",
       "      <td>Ugly stork</td>\n",
       "      <td>ricompra_si</td>\n",
       "      <td>372</td>\n",
       "      <td>257</td>\n",
       "      <td>23</td>\n",
       "      <td>92</td>\n",
       "      <td>935</td>\n",
       "      <td>417</td>\n",
       "      <td>30</td>\n",
       "      <td>0</td>\n",
       "      <td>0</td>\n",
       "      <td>1</td>\n",
       "      <td>1</td>\n",
       "      <td>1</td>\n",
       "    </tr>\n",
       "    <tr>\n",
       "      <th>1</th>\n",
       "      <td>Vile bilby</td>\n",
       "      <td>ricompra_no</td>\n",
       "      <td>284</td>\n",
       "      <td>192</td>\n",
       "      <td>20</td>\n",
       "      <td>72</td>\n",
       "      <td>669</td>\n",
       "      <td>187</td>\n",
       "      <td>4</td>\n",
       "      <td>0</td>\n",
       "      <td>1</td>\n",
       "      <td>0</td>\n",
       "      <td>0</td>\n",
       "      <td>0</td>\n",
       "    </tr>\n",
       "    <tr>\n",
       "      <th>2</th>\n",
       "      <td>Fair sora</td>\n",
       "      <td>ricompra_no</td>\n",
       "      <td>236</td>\n",
       "      <td>104</td>\n",
       "      <td>27</td>\n",
       "      <td>105</td>\n",
       "      <td>626</td>\n",
       "      <td>102</td>\n",
       "      <td>11</td>\n",
       "      <td>1</td>\n",
       "      <td>1</td>\n",
       "      <td>1</td>\n",
       "      <td>1</td>\n",
       "      <td>1</td>\n",
       "    </tr>\n",
       "    <tr>\n",
       "      <th>3</th>\n",
       "      <td>Spicy llama</td>\n",
       "      <td>ricompra_si</td>\n",
       "      <td>56</td>\n",
       "      <td>32</td>\n",
       "      <td>6</td>\n",
       "      <td>18</td>\n",
       "      <td>141</td>\n",
       "      <td>43</td>\n",
       "      <td>2</td>\n",
       "      <td>1</td>\n",
       "      <td>0</td>\n",
       "      <td>0</td>\n",
       "      <td>1</td>\n",
       "      <td>0</td>\n",
       "    </tr>\n",
       "    <tr>\n",
       "      <th>4</th>\n",
       "      <td>Opal koi</td>\n",
       "      <td>ricompra_no</td>\n",
       "      <td>592</td>\n",
       "      <td>287</td>\n",
       "      <td>57</td>\n",
       "      <td>248</td>\n",
       "      <td>880</td>\n",
       "      <td>545</td>\n",
       "      <td>0</td>\n",
       "      <td>1</td>\n",
       "      <td>1</td>\n",
       "      <td>1</td>\n",
       "      <td>1</td>\n",
       "      <td>0</td>\n",
       "    </tr>\n",
       "  </tbody>\n",
       "</table>\n",
       "</div>"
      ],
      "text/plain": [
       "            id       repaga  quote  good_q  bad_q  suff_q  request  follow_up  \\\n",
       "0   Ugly stork  ricompra_si    372     257     23      92      935        417   \n",
       "1   Vile bilby  ricompra_no    284     192     20      72      669        187   \n",
       "2    Fair sora  ricompra_no    236     104     27     105      626        102   \n",
       "3  Spicy llama  ricompra_si     56      32      6      18      141         43   \n",
       "4     Opal koi  ricompra_no    592     287     57     248      880        545   \n",
       "\n",
       "   rev_approved  foto_profilo  linkedin  facebook  website  has_description  \n",
       "0            30             0         0         1        1                1  \n",
       "1             4             0         1         0        0                0  \n",
       "2            11             1         1         1        1                1  \n",
       "3             2             1         0         0        1                0  \n",
       "4             0             1         1         1        1                0  "
      ]
     },
     "execution_count": 3,
     "metadata": {},
     "output_type": "execute_result"
    }
   ],
   "source": [
    "df.head()"
   ]
  },
  {
   "cell_type": "markdown",
   "metadata": {},
   "source": [
    "Vediamo un pò le variabili che compongono il dataset.\n",
    "La variabile **id**, come possiamo notare in basso, non è una variabile univoca, e ai fini della modellazione potremmo anche escluderla.\n",
    "La variabile dipendente **repaga** è binaria, in quanto può assumere soltanto due valori.\n",
    "Le variabili indipendenti **quote**, **good_q**, **bad_q**, **suff_q**, **request**, **follow_up** e **rev_approved** sono variabili numeriche.\n",
    "Le variabili indipendenti **foto_profilo**, **linkedin**, **facebook**, **website** e **has_description** sono variabili cosìdette *dummy*. Di fatto sono variabili binarie in quanto possono assumere soltanto 2 valori."
   ]
  },
  {
   "cell_type": "code",
   "execution_count": 4,
   "metadata": {},
   "outputs": [
    {
     "data": {
      "text/plain": [
       "Curdy cavy     3\n",
       "Pine nymph     3\n",
       "Unfit upupa    3\n",
       "Taboo urva     2\n",
       "Robo bream     2\n",
       "Name: id, dtype: int64"
      ]
     },
     "execution_count": 4,
     "metadata": {},
     "output_type": "execute_result"
    }
   ],
   "source": [
    "# La variabile id non è univoca\n",
    "df.id.value_counts().head()"
   ]
  },
  {
   "cell_type": "markdown",
   "metadata": {},
   "source": [
    "La funzione describe ci permette di vedere le statistiche principali delle variabili numeriche. \n",
    "L'interprete di Python riconosce che c'è una variabile non numerica (id) e la esclude in automatico.\n",
    "Questa funzione ci permette di vedere possibili anomalie nel dataset. \n",
    "Se infatti guardiamo i minimi delle variabili **quote**, **bad_q** e **suff_q** ci accorgiamo che sono numeri negativi. Ritengo che non abbia senso considerare valori inferiori a *0* per quelle variabili, e in generale per tutto il dataset. "
   ]
  },
  {
   "cell_type": "code",
   "execution_count": 5,
   "metadata": {},
   "outputs": [
    {
     "data": {
      "text/html": [
       "<div>\n",
       "<style scoped>\n",
       "    .dataframe tbody tr th:only-of-type {\n",
       "        vertical-align: middle;\n",
       "    }\n",
       "\n",
       "    .dataframe tbody tr th {\n",
       "        vertical-align: top;\n",
       "    }\n",
       "\n",
       "    .dataframe thead th {\n",
       "        text-align: right;\n",
       "    }\n",
       "</style>\n",
       "<table border=\"1\" class=\"dataframe\">\n",
       "  <thead>\n",
       "    <tr style=\"text-align: right;\">\n",
       "      <th></th>\n",
       "      <th>quote</th>\n",
       "      <th>good_q</th>\n",
       "      <th>bad_q</th>\n",
       "      <th>suff_q</th>\n",
       "      <th>request</th>\n",
       "      <th>follow_up</th>\n",
       "      <th>rev_approved</th>\n",
       "      <th>foto_profilo</th>\n",
       "      <th>linkedin</th>\n",
       "      <th>facebook</th>\n",
       "      <th>website</th>\n",
       "      <th>has_description</th>\n",
       "    </tr>\n",
       "  </thead>\n",
       "  <tbody>\n",
       "    <tr>\n",
       "      <th>count</th>\n",
       "      <td>10000.000000</td>\n",
       "      <td>10000.000000</td>\n",
       "      <td>10000.000000</td>\n",
       "      <td>10000.000000</td>\n",
       "      <td>10000.000000</td>\n",
       "      <td>10000.000000</td>\n",
       "      <td>10000.000000</td>\n",
       "      <td>10000.000000</td>\n",
       "      <td>10000.000000</td>\n",
       "      <td>10000.000000</td>\n",
       "      <td>10000.0000</td>\n",
       "      <td>10000.000000</td>\n",
       "    </tr>\n",
       "    <tr>\n",
       "      <th>mean</th>\n",
       "      <td>43.109900</td>\n",
       "      <td>24.498800</td>\n",
       "      <td>5.079800</td>\n",
       "      <td>13.445900</td>\n",
       "      <td>120.541900</td>\n",
       "      <td>28.669300</td>\n",
       "      <td>1.864600</td>\n",
       "      <td>0.473200</td>\n",
       "      <td>0.488600</td>\n",
       "      <td>0.483900</td>\n",
       "      <td>0.4794</td>\n",
       "      <td>0.481100</td>\n",
       "    </tr>\n",
       "    <tr>\n",
       "      <th>std</th>\n",
       "      <td>170.833703</td>\n",
       "      <td>109.343098</td>\n",
       "      <td>14.233197</td>\n",
       "      <td>56.893119</td>\n",
       "      <td>327.218464</td>\n",
       "      <td>127.269488</td>\n",
       "      <td>4.200813</td>\n",
       "      <td>0.499306</td>\n",
       "      <td>0.499895</td>\n",
       "      <td>0.499766</td>\n",
       "      <td>0.4996</td>\n",
       "      <td>0.499668</td>\n",
       "    </tr>\n",
       "    <tr>\n",
       "      <th>min</th>\n",
       "      <td>-1.000000</td>\n",
       "      <td>0.000000</td>\n",
       "      <td>-10.000000</td>\n",
       "      <td>-41.000000</td>\n",
       "      <td>0.000000</td>\n",
       "      <td>0.000000</td>\n",
       "      <td>0.000000</td>\n",
       "      <td>0.000000</td>\n",
       "      <td>0.000000</td>\n",
       "      <td>0.000000</td>\n",
       "      <td>0.0000</td>\n",
       "      <td>0.000000</td>\n",
       "    </tr>\n",
       "    <tr>\n",
       "      <th>25%</th>\n",
       "      <td>1.000000</td>\n",
       "      <td>0.000000</td>\n",
       "      <td>1.000000</td>\n",
       "      <td>0.000000</td>\n",
       "      <td>16.000000</td>\n",
       "      <td>0.000000</td>\n",
       "      <td>0.000000</td>\n",
       "      <td>0.000000</td>\n",
       "      <td>0.000000</td>\n",
       "      <td>0.000000</td>\n",
       "      <td>0.0000</td>\n",
       "      <td>0.000000</td>\n",
       "    </tr>\n",
       "    <tr>\n",
       "      <th>50%</th>\n",
       "      <td>4.000000</td>\n",
       "      <td>1.000000</td>\n",
       "      <td>2.000000</td>\n",
       "      <td>1.000000</td>\n",
       "      <td>39.000000</td>\n",
       "      <td>1.000000</td>\n",
       "      <td>1.000000</td>\n",
       "      <td>0.000000</td>\n",
       "      <td>0.000000</td>\n",
       "      <td>0.000000</td>\n",
       "      <td>0.0000</td>\n",
       "      <td>0.000000</td>\n",
       "    </tr>\n",
       "    <tr>\n",
       "      <th>75%</th>\n",
       "      <td>9.000000</td>\n",
       "      <td>2.000000</td>\n",
       "      <td>4.000000</td>\n",
       "      <td>3.000000</td>\n",
       "      <td>84.000000</td>\n",
       "      <td>3.000000</td>\n",
       "      <td>2.000000</td>\n",
       "      <td>1.000000</td>\n",
       "      <td>1.000000</td>\n",
       "      <td>1.000000</td>\n",
       "      <td>1.0000</td>\n",
       "      <td>1.000000</td>\n",
       "    </tr>\n",
       "    <tr>\n",
       "      <th>max</th>\n",
       "      <td>2846.000000</td>\n",
       "      <td>2169.000000</td>\n",
       "      <td>308.000000</td>\n",
       "      <td>1211.000000</td>\n",
       "      <td>5905.000000</td>\n",
       "      <td>2526.000000</td>\n",
       "      <td>63.000000</td>\n",
       "      <td>1.000000</td>\n",
       "      <td>1.000000</td>\n",
       "      <td>1.000000</td>\n",
       "      <td>1.0000</td>\n",
       "      <td>1.000000</td>\n",
       "    </tr>\n",
       "  </tbody>\n",
       "</table>\n",
       "</div>"
      ],
      "text/plain": [
       "              quote        good_q         bad_q        suff_q       request  \\\n",
       "count  10000.000000  10000.000000  10000.000000  10000.000000  10000.000000   \n",
       "mean      43.109900     24.498800      5.079800     13.445900    120.541900   \n",
       "std      170.833703    109.343098     14.233197     56.893119    327.218464   \n",
       "min       -1.000000      0.000000    -10.000000    -41.000000      0.000000   \n",
       "25%        1.000000      0.000000      1.000000      0.000000     16.000000   \n",
       "50%        4.000000      1.000000      2.000000      1.000000     39.000000   \n",
       "75%        9.000000      2.000000      4.000000      3.000000     84.000000   \n",
       "max     2846.000000   2169.000000    308.000000   1211.000000   5905.000000   \n",
       "\n",
       "          follow_up  rev_approved  foto_profilo      linkedin      facebook  \\\n",
       "count  10000.000000  10000.000000  10000.000000  10000.000000  10000.000000   \n",
       "mean      28.669300      1.864600      0.473200      0.488600      0.483900   \n",
       "std      127.269488      4.200813      0.499306      0.499895      0.499766   \n",
       "min        0.000000      0.000000      0.000000      0.000000      0.000000   \n",
       "25%        0.000000      0.000000      0.000000      0.000000      0.000000   \n",
       "50%        1.000000      1.000000      0.000000      0.000000      0.000000   \n",
       "75%        3.000000      2.000000      1.000000      1.000000      1.000000   \n",
       "max     2526.000000     63.000000      1.000000      1.000000      1.000000   \n",
       "\n",
       "          website  has_description  \n",
       "count  10000.0000     10000.000000  \n",
       "mean       0.4794         0.481100  \n",
       "std        0.4996         0.499668  \n",
       "min        0.0000         0.000000  \n",
       "25%        0.0000         0.000000  \n",
       "50%        0.0000         0.000000  \n",
       "75%        1.0000         1.000000  \n",
       "max        1.0000         1.000000  "
      ]
     },
     "execution_count": 5,
     "metadata": {},
     "output_type": "execute_result"
    }
   ],
   "source": [
    "df.describe()"
   ]
  },
  {
   "cell_type": "markdown",
   "metadata": {},
   "source": [
    "La funzione **info()** ci permette di vedere il tipo degli oggetti Series, che rappresentano le colonne"
   ]
  },
  {
   "cell_type": "code",
   "execution_count": 6,
   "metadata": {},
   "outputs": [
    {
     "name": "stdout",
     "output_type": "stream",
     "text": [
      "<class 'pandas.core.frame.DataFrame'>\n",
      "RangeIndex: 10000 entries, 0 to 9999\n",
      "Data columns (total 14 columns):\n",
      "id                 10000 non-null object\n",
      "repaga             10000 non-null object\n",
      "quote              10000 non-null int64\n",
      "good_q             10000 non-null int64\n",
      "bad_q              10000 non-null int64\n",
      "suff_q             10000 non-null int64\n",
      "request            10000 non-null int64\n",
      "follow_up          10000 non-null int64\n",
      "rev_approved       10000 non-null int64\n",
      "foto_profilo       10000 non-null int64\n",
      "linkedin           10000 non-null int64\n",
      "facebook           10000 non-null int64\n",
      "website            10000 non-null int64\n",
      "has_description    10000 non-null int64\n",
      "dtypes: int64(12), object(2)\n",
      "memory usage: 1.1+ MB\n"
     ]
    }
   ],
   "source": [
    "df.info()"
   ]
  },
  {
   "cell_type": "markdown",
   "metadata": {},
   "source": [
    "Verifichiamo che non ci siano valori null"
   ]
  },
  {
   "cell_type": "code",
   "execution_count": 7,
   "metadata": {},
   "outputs": [
    {
     "data": {
      "text/plain": [
       "id                 0\n",
       "repaga             0\n",
       "quote              0\n",
       "good_q             0\n",
       "bad_q              0\n",
       "suff_q             0\n",
       "request            0\n",
       "follow_up          0\n",
       "rev_approved       0\n",
       "foto_profilo       0\n",
       "linkedin           0\n",
       "facebook           0\n",
       "website            0\n",
       "has_description    0\n",
       "dtype: int64"
      ]
     },
     "execution_count": 7,
     "metadata": {},
     "output_type": "execute_result"
    }
   ],
   "source": [
    "df[df.isnull()].count()"
   ]
  },
  {
   "cell_type": "markdown",
   "metadata": {},
   "source": [
    "Portiamo a 0 tutti i valori numerici che sono minori di 0, in quanto, come ho detto prima, non ha tanto senso avere dei numeri negativi in questo dataset.\n",
    "Prima di tutto mi estraggo i valori numerici dal dataframe con la funzione **_get_numeric_data()**, poi con una selezione condizionale assegno tutti i valori negativi a 0 e infine verifico che nel df non ci siano più valori negativi."
   ]
  },
  {
   "cell_type": "code",
   "execution_count": 8,
   "metadata": {},
   "outputs": [
    {
     "name": "stdout",
     "output_type": "stream",
     "text": [
      "quote     0\n",
      "bad_q     0\n",
      "suff_q    0\n",
      "dtype: int64\n"
     ]
    },
    {
     "data": {
      "text/html": [
       "<div>\n",
       "<style scoped>\n",
       "    .dataframe tbody tr th:only-of-type {\n",
       "        vertical-align: middle;\n",
       "    }\n",
       "\n",
       "    .dataframe tbody tr th {\n",
       "        vertical-align: top;\n",
       "    }\n",
       "\n",
       "    .dataframe thead th {\n",
       "        text-align: right;\n",
       "    }\n",
       "</style>\n",
       "<table border=\"1\" class=\"dataframe\">\n",
       "  <thead>\n",
       "    <tr style=\"text-align: right;\">\n",
       "      <th></th>\n",
       "      <th>quote</th>\n",
       "      <th>good_q</th>\n",
       "      <th>bad_q</th>\n",
       "      <th>suff_q</th>\n",
       "      <th>request</th>\n",
       "      <th>follow_up</th>\n",
       "      <th>rev_approved</th>\n",
       "      <th>foto_profilo</th>\n",
       "      <th>linkedin</th>\n",
       "      <th>facebook</th>\n",
       "      <th>website</th>\n",
       "      <th>has_description</th>\n",
       "    </tr>\n",
       "  </thead>\n",
       "  <tbody>\n",
       "    <tr>\n",
       "      <th>count</th>\n",
       "      <td>10000.000000</td>\n",
       "      <td>10000.000000</td>\n",
       "      <td>10000.000000</td>\n",
       "      <td>10000.000000</td>\n",
       "      <td>10000.000000</td>\n",
       "      <td>10000.000000</td>\n",
       "      <td>10000.000000</td>\n",
       "      <td>10000.000000</td>\n",
       "      <td>10000.000000</td>\n",
       "      <td>10000.000000</td>\n",
       "      <td>10000.0000</td>\n",
       "      <td>10000.000000</td>\n",
       "    </tr>\n",
       "    <tr>\n",
       "      <th>mean</th>\n",
       "      <td>43.110100</td>\n",
       "      <td>24.498800</td>\n",
       "      <td>5.081200</td>\n",
       "      <td>13.452500</td>\n",
       "      <td>120.541900</td>\n",
       "      <td>28.669300</td>\n",
       "      <td>1.864600</td>\n",
       "      <td>0.473200</td>\n",
       "      <td>0.488600</td>\n",
       "      <td>0.483900</td>\n",
       "      <td>0.4794</td>\n",
       "      <td>0.481100</td>\n",
       "    </tr>\n",
       "    <tr>\n",
       "      <th>std</th>\n",
       "      <td>170.833652</td>\n",
       "      <td>109.343098</td>\n",
       "      <td>14.232311</td>\n",
       "      <td>56.889862</td>\n",
       "      <td>327.218464</td>\n",
       "      <td>127.269488</td>\n",
       "      <td>4.200813</td>\n",
       "      <td>0.499306</td>\n",
       "      <td>0.499895</td>\n",
       "      <td>0.499766</td>\n",
       "      <td>0.4996</td>\n",
       "      <td>0.499668</td>\n",
       "    </tr>\n",
       "    <tr>\n",
       "      <th>min</th>\n",
       "      <td>0.000000</td>\n",
       "      <td>0.000000</td>\n",
       "      <td>0.000000</td>\n",
       "      <td>0.000000</td>\n",
       "      <td>0.000000</td>\n",
       "      <td>0.000000</td>\n",
       "      <td>0.000000</td>\n",
       "      <td>0.000000</td>\n",
       "      <td>0.000000</td>\n",
       "      <td>0.000000</td>\n",
       "      <td>0.0000</td>\n",
       "      <td>0.000000</td>\n",
       "    </tr>\n",
       "    <tr>\n",
       "      <th>25%</th>\n",
       "      <td>1.000000</td>\n",
       "      <td>0.000000</td>\n",
       "      <td>1.000000</td>\n",
       "      <td>0.000000</td>\n",
       "      <td>16.000000</td>\n",
       "      <td>0.000000</td>\n",
       "      <td>0.000000</td>\n",
       "      <td>0.000000</td>\n",
       "      <td>0.000000</td>\n",
       "      <td>0.000000</td>\n",
       "      <td>0.0000</td>\n",
       "      <td>0.000000</td>\n",
       "    </tr>\n",
       "    <tr>\n",
       "      <th>50%</th>\n",
       "      <td>4.000000</td>\n",
       "      <td>1.000000</td>\n",
       "      <td>2.000000</td>\n",
       "      <td>1.000000</td>\n",
       "      <td>39.000000</td>\n",
       "      <td>1.000000</td>\n",
       "      <td>1.000000</td>\n",
       "      <td>0.000000</td>\n",
       "      <td>0.000000</td>\n",
       "      <td>0.000000</td>\n",
       "      <td>0.0000</td>\n",
       "      <td>0.000000</td>\n",
       "    </tr>\n",
       "    <tr>\n",
       "      <th>75%</th>\n",
       "      <td>9.000000</td>\n",
       "      <td>2.000000</td>\n",
       "      <td>4.000000</td>\n",
       "      <td>3.000000</td>\n",
       "      <td>84.000000</td>\n",
       "      <td>3.000000</td>\n",
       "      <td>2.000000</td>\n",
       "      <td>1.000000</td>\n",
       "      <td>1.000000</td>\n",
       "      <td>1.000000</td>\n",
       "      <td>1.0000</td>\n",
       "      <td>1.000000</td>\n",
       "    </tr>\n",
       "    <tr>\n",
       "      <th>max</th>\n",
       "      <td>2846.000000</td>\n",
       "      <td>2169.000000</td>\n",
       "      <td>308.000000</td>\n",
       "      <td>1211.000000</td>\n",
       "      <td>5905.000000</td>\n",
       "      <td>2526.000000</td>\n",
       "      <td>63.000000</td>\n",
       "      <td>1.000000</td>\n",
       "      <td>1.000000</td>\n",
       "      <td>1.000000</td>\n",
       "      <td>1.0000</td>\n",
       "      <td>1.000000</td>\n",
       "    </tr>\n",
       "  </tbody>\n",
       "</table>\n",
       "</div>"
      ],
      "text/plain": [
       "              quote        good_q         bad_q        suff_q       request  \\\n",
       "count  10000.000000  10000.000000  10000.000000  10000.000000  10000.000000   \n",
       "mean      43.110100     24.498800      5.081200     13.452500    120.541900   \n",
       "std      170.833652    109.343098     14.232311     56.889862    327.218464   \n",
       "min        0.000000      0.000000      0.000000      0.000000      0.000000   \n",
       "25%        1.000000      0.000000      1.000000      0.000000     16.000000   \n",
       "50%        4.000000      1.000000      2.000000      1.000000     39.000000   \n",
       "75%        9.000000      2.000000      4.000000      3.000000     84.000000   \n",
       "max     2846.000000   2169.000000    308.000000   1211.000000   5905.000000   \n",
       "\n",
       "          follow_up  rev_approved  foto_profilo      linkedin      facebook  \\\n",
       "count  10000.000000  10000.000000  10000.000000  10000.000000  10000.000000   \n",
       "mean      28.669300      1.864600      0.473200      0.488600      0.483900   \n",
       "std      127.269488      4.200813      0.499306      0.499895      0.499766   \n",
       "min        0.000000      0.000000      0.000000      0.000000      0.000000   \n",
       "25%        0.000000      0.000000      0.000000      0.000000      0.000000   \n",
       "50%        1.000000      1.000000      0.000000      0.000000      0.000000   \n",
       "75%        3.000000      2.000000      1.000000      1.000000      1.000000   \n",
       "max     2526.000000     63.000000      1.000000      1.000000      1.000000   \n",
       "\n",
       "          website  has_description  \n",
       "count  10000.0000     10000.000000  \n",
       "mean       0.4794         0.481100  \n",
       "std        0.4996         0.499668  \n",
       "min        0.0000         0.000000  \n",
       "25%        0.0000         0.000000  \n",
       "50%        0.0000         0.000000  \n",
       "75%        1.0000         1.000000  \n",
       "max        1.0000         1.000000  "
      ]
     },
     "execution_count": 8,
     "metadata": {},
     "output_type": "execute_result"
    }
   ],
   "source": [
    "num = df._get_numeric_data()\n",
    "num[num < 0] = 0\n",
    "print(num.loc[:,['quote', 'bad_q', 'suff_q']][num < 0].count())\n",
    "df.describe()"
   ]
  },
  {
   "cell_type": "markdown",
   "metadata": {},
   "source": [
    "A questo punto mi focalizzerei sulla variabile dipendente. \n",
    "Nel mondo reale capita spesso di trovarci di fronte a uno sbilanciamento dei valori all'interno della variabile binaria. Questo dataset non fa eccezioni. Come possiamo vedere il 10% della popolazione ricompra un pacchetto, mentre il 90% non lo fa. In casi come questi bisogna fare attenzione, in quanto l'accuracy può essere fuorviante. In fase di modellazione vedremo come indirizzare questo problema."
   ]
  },
  {
   "cell_type": "code",
   "execution_count": 9,
   "metadata": {},
   "outputs": [
    {
     "name": "stdout",
     "output_type": "stream",
     "text": [
      "1014\n",
      "8986\n"
     ]
    },
    {
     "data": {
      "text/plain": [
       "'0.1%'"
      ]
     },
     "execution_count": 9,
     "metadata": {},
     "output_type": "execute_result"
    }
   ],
   "source": [
    "num_si = df.repaga[df.repaga == 'ricompra_si'].count()\n",
    "num_no = df.repaga[df.repaga == 'ricompra_no'].count()\n",
    "print(num_si)\n",
    "print(num_no)\n",
    "str(round(num_si / (num_no + num_si), 1)) + '%'"
   ]
  },
  {
   "cell_type": "markdown",
   "metadata": {},
   "source": [
    "Adesso vorrei visuallizare la distribuzione delle variabili numeriche (comprese quelle dummy)"
   ]
  },
  {
   "cell_type": "markdown",
   "metadata": {},
   "source": [
    "Prima quelle numeriche. Vediamo che per tutte la distribuzione è **'positive skewed'** in quanto tutti i valori si concentrano sulla sinistra della distribuzione. \n",
    "Questo può essere interpretabile facendo riferimento al principio di Pareto, nel senso che il 20% della popolazione di riferimento è 'responsabile' per l'80% delle attività"
   ]
  },
  {
   "cell_type": "code",
   "execution_count": 10,
   "metadata": {},
   "outputs": [
    {
     "data": {
      "image/png": "[encoded data removed]",
      "text/plain": [
       "<Figure size 1440x1080 with 9 Axes>"
      ]
     },
     "metadata": {
      "needs_background": "light"
     },
     "output_type": "display_data"
    }
   ],
   "source": [
    "df.iloc[:,2:9].hist(figsize = (20,15))\n",
    "plt.style.use('ggplot')\n",
    "plt.tight_layout()"
   ]
  },
  {
   "cell_type": "markdown",
   "metadata": {},
   "source": [
    "Vediamo invece che la distribuzione è abbastanza omogenea per le variabili dummy."
   ]
  },
  {
   "cell_type": "code",
   "execution_count": 11,
   "metadata": {},
   "outputs": [
    {
     "data": {
      "image/png": "[encoded data removed]",
      "text/plain": [
       "<Figure size 720x432 with 6 Axes>"
      ]
     },
     "metadata": {},
     "output_type": "display_data"
    }
   ],
   "source": [
    "df.iloc[:,9:].hist(figsize = (10,6))\n",
    "plt.style.use('ggplot')\n",
    "plt.tight_layout()"
   ]
  },
  {
   "cell_type": "markdown",
   "metadata": {},
   "source": [
    "Dal mio punto di vista è interessante anche vedere la distribuzione delle variabili numeriche considerando la variabile dipendente repaga, Prima di tutto prendo solo le variabili che mi interessano (quella dipendente più quelle numeriche indipendenti) e dopodichè uso la libreria matplotlib per ottenere dei boxplot"
   ]
  },
  {
   "cell_type": "code",
   "execution_count": 12,
   "metadata": {},
   "outputs": [],
   "source": [
    "h = df.loc[:,['repaga','request', 'quote', 'good_q', 'bad_q','suff_q', 'follow_up', 'rev_approved']]"
   ]
  },
  {
   "cell_type": "code",
   "execution_count": 13,
   "metadata": {},
   "outputs": [
    {
     "data": {
      "text/html": [
       "<div>\n",
       "<style scoped>\n",
       "    .dataframe tbody tr th:only-of-type {\n",
       "        vertical-align: middle;\n",
       "    }\n",
       "\n",
       "    .dataframe tbody tr th {\n",
       "        vertical-align: top;\n",
       "    }\n",
       "\n",
       "    .dataframe thead th {\n",
       "        text-align: right;\n",
       "    }\n",
       "</style>\n",
       "<table border=\"1\" class=\"dataframe\">\n",
       "  <thead>\n",
       "    <tr style=\"text-align: right;\">\n",
       "      <th></th>\n",
       "      <th>repaga</th>\n",
       "      <th>request</th>\n",
       "      <th>quote</th>\n",
       "      <th>good_q</th>\n",
       "      <th>bad_q</th>\n",
       "      <th>suff_q</th>\n",
       "      <th>follow_up</th>\n",
       "      <th>rev_approved</th>\n",
       "    </tr>\n",
       "  </thead>\n",
       "  <tbody>\n",
       "    <tr>\n",
       "      <th>0</th>\n",
       "      <td>ricompra_si</td>\n",
       "      <td>935</td>\n",
       "      <td>372</td>\n",
       "      <td>257</td>\n",
       "      <td>23</td>\n",
       "      <td>92</td>\n",
       "      <td>417</td>\n",
       "      <td>30</td>\n",
       "    </tr>\n",
       "    <tr>\n",
       "      <th>1</th>\n",
       "      <td>ricompra_no</td>\n",
       "      <td>669</td>\n",
       "      <td>284</td>\n",
       "      <td>192</td>\n",
       "      <td>20</td>\n",
       "      <td>72</td>\n",
       "      <td>187</td>\n",
       "      <td>4</td>\n",
       "    </tr>\n",
       "    <tr>\n",
       "      <th>2</th>\n",
       "      <td>ricompra_no</td>\n",
       "      <td>626</td>\n",
       "      <td>236</td>\n",
       "      <td>104</td>\n",
       "      <td>27</td>\n",
       "      <td>105</td>\n",
       "      <td>102</td>\n",
       "      <td>11</td>\n",
       "    </tr>\n",
       "    <tr>\n",
       "      <th>3</th>\n",
       "      <td>ricompra_si</td>\n",
       "      <td>141</td>\n",
       "      <td>56</td>\n",
       "      <td>32</td>\n",
       "      <td>6</td>\n",
       "      <td>18</td>\n",
       "      <td>43</td>\n",
       "      <td>2</td>\n",
       "    </tr>\n",
       "    <tr>\n",
       "      <th>4</th>\n",
       "      <td>ricompra_no</td>\n",
       "      <td>880</td>\n",
       "      <td>592</td>\n",
       "      <td>287</td>\n",
       "      <td>57</td>\n",
       "      <td>248</td>\n",
       "      <td>545</td>\n",
       "      <td>0</td>\n",
       "    </tr>\n",
       "  </tbody>\n",
       "</table>\n",
       "</div>"
      ],
      "text/plain": [
       "        repaga  request  quote  good_q  bad_q  suff_q  follow_up  rev_approved\n",
       "0  ricompra_si      935    372     257     23      92        417            30\n",
       "1  ricompra_no      669    284     192     20      72        187             4\n",
       "2  ricompra_no      626    236     104     27     105        102            11\n",
       "3  ricompra_si      141     56      32      6      18         43             2\n",
       "4  ricompra_no      880    592     287     57     248        545             0"
      ]
     },
     "execution_count": 13,
     "metadata": {},
     "output_type": "execute_result"
    }
   ],
   "source": [
    "h.head()"
   ]
  },
  {
   "cell_type": "code",
   "execution_count": 14,
   "metadata": {},
   "outputs": [
    {
     "data": {
      "image/png": "[encoded data removed]",
      "text/plain": [
       "<Figure size 2160x2160 with 7 Axes>"
      ]
     },
     "metadata": {},
     "output_type": "display_data"
    }
   ],
   "source": [
    "fig, ax = plt.subplots(4,2, figsize = (30,30)) # inizializzo 8 canvas vuoti (4x2) con la funzione **subplots** con taglia 30*30.\n",
    "for i, col in enumerate(list(h.columns.values)[1:]): # itero sulla lista di colonne (escludendo la colonna repaga) associate a un indice\n",
    "                       h.boxplot(col, by = 'repaga', ax = ax.flatten()[i]) #costruisco per ogni colonna un boxplot (raggruppando per la variabile repaga). il parametro ax serve per assegnare a ciascun canvas un numpy array monodimensionale \n",
    "plt.suptitle('') # per non mostrare il titolo che compare in automatico \n",
    "fig.delaxes(ax[3,1]) # remove the empty canvas"
   ]
  },
  {
   "cell_type": "markdown",
   "metadata": {},
   "source": [
    "Da questi boxplot si può notare come ci sia più variabilità nella distribuzione dei valori **ricompra_si** per tutte le variabili considerate.\n",
    "Questo può aver senso in quanto chi ricompra pacchetti riceve più richieste, revisioni approvate e recensioni, siano esse positive, negative o sufficienti, e, ovviamente, fa più preventivi e follow-up. Invece le distribuzioni delle variabili dei 'non fedeli' si concentrano su valori vicini allo zero (c'è minore variabilità).\n",
    "Lo si può notare, oltre che graficamente, anche calcolando la media e la deviazione standard."
   ]
  },
  {
   "cell_type": "markdown",
   "metadata": {},
   "source": [
    "La funzione prende come input la colonna che vogliamo considerare, la statistica che vogliamo calcolare (media o devazione standard) e uno dei 2 valori della variabile *repaga* (**ricompra_si** o **ricompra_no**)"
   ]
  },
  {
   "cell_type": "code",
   "execution_count": 15,
   "metadata": {},
   "outputs": [],
   "source": [
    "def statsRicompra(c,s,r):\n",
    "    return int(round(s(c[df.repaga == r]))) "
   ]
  },
  {
   "cell_type": "code",
   "execution_count": 16,
   "metadata": {},
   "outputs": [
    {
     "name": "stdout",
     "output_type": "stream",
     "text": [
      "Coloro che ricomprano un pacchetto hanno in media un numero di richieste pari a 429.\n",
      "La deviazione standard è pari a 685\n"
     ]
    }
   ],
   "source": [
    "print('Coloro che ricomprano un pacchetto hanno in media un numero di richieste pari a {0}.\\nLa deviazione standard è pari a {1}'.format(statsRicompra(df.request,np.mean, 'ricompra_si'),statsRicompra(df.request,np.std,'ricompra_si')))"
   ]
  },
  {
   "cell_type": "code",
   "execution_count": 17,
   "metadata": {},
   "outputs": [
    {
     "name": "stdout",
     "output_type": "stream",
     "text": [
      "Coloro che non ricomprano un pacchetto hanno in media un numero di richieste pari a 86.\n",
      "La deviazione standard è pari a 233\n"
     ]
    }
   ],
   "source": [
    "print('Coloro che non ricomprano un pacchetto hanno in media un numero di richieste pari a {0}.\\nLa deviazione standard è pari a {1}'.format(statsRicompra(df.request,np.mean, 'ricompra_no'),statsRicompra(df.request,np.std,'ricompra_no')))"
   ]
  },
  {
   "cell_type": "code",
   "execution_count": 18,
   "metadata": {},
   "outputs": [
    {
     "name": "stdout",
     "output_type": "stream",
     "text": [
      "Coloro che ricomprano un pacchetto fanno in media un numero di preventivi pari a 206.\n",
      "La deviazione standard è pari a 356\n"
     ]
    }
   ],
   "source": [
    "print('Coloro che ricomprano un pacchetto fanno in media un numero di preventivi pari a {0}.\\nLa deviazione standard è pari a {1}'.format(statsRicompra(df.quote,np.mean, 'ricompra_si'),statsRicompra(df.quote,np.std,'ricompra_si')))"
   ]
  },
  {
   "cell_type": "code",
   "execution_count": 19,
   "metadata": {},
   "outputs": [
    {
     "name": "stdout",
     "output_type": "stream",
     "text": [
      "Coloro che ricomprano un pacchetto fanno in media un numero di preventivi pari a 25.\n",
      "La deviazione standard è pari a 122\n"
     ]
    }
   ],
   "source": [
    "print('Coloro che ricomprano un pacchetto fanno in media un numero di preventivi pari a {0}.\\nLa deviazione standard è pari a {1}'.format(statsRicompra(df.quote,np.mean, 'ricompra_no'),statsRicompra(df.quote,np.std,'ricompra_no')))"
   ]
  },
  {
   "cell_type": "code",
   "execution_count": 20,
   "metadata": {},
   "outputs": [
    {
     "name": "stdout",
     "output_type": "stream",
     "text": [
      "Coloro che ricomprano un pacchetto ricevono in media 127 recensioni positive.\n",
      "La deviazione standard è pari a 236\n"
     ]
    }
   ],
   "source": [
    "print('Coloro che ricomprano un pacchetto ricevono in media {0} recensioni positive.\\nLa deviazione standard è pari a {1}'.format(statsRicompra(df.good_q,np.mean, 'ricompra_si'),statsRicompra(df.good_q,np.std,'ricompra_si')))"
   ]
  },
  {
   "cell_type": "code",
   "execution_count": 21,
   "metadata": {},
   "outputs": [
    {
     "name": "stdout",
     "output_type": "stream",
     "text": [
      "Coloro che non ricomprano un pacchetto ricevono in media hanno in media 13 recensioni positive.\n",
      "La deviazione standard è pari a 76\n"
     ]
    }
   ],
   "source": [
    "print('Coloro che non ricomprano un pacchetto ricevono in media hanno in media {0} recensioni positive.\\nLa deviazione standard è pari a {1}'.format(statsRicompra(df.good_q,np.mean, 'ricompra_no'),statsRicompra(df.good_q,np.std,'ricompra_no')))"
   ]
  },
  {
   "cell_type": "code",
   "execution_count": 22,
   "metadata": {},
   "outputs": [
    {
     "name": "stdout",
     "output_type": "stream",
     "text": [
      "Coloro che ricomprano un pacchetto ricevono in media 63 recensioni sufficienti.\n",
      "La deviazione standard è pari a 116\n"
     ]
    }
   ],
   "source": [
    "print('Coloro che ricomprano un pacchetto ricevono in media {0} recensioni sufficienti.\\nLa deviazione standard è pari a {1}'.format(statsRicompra(df.suff_q,np.mean, 'ricompra_si'),statsRicompra(df.suff_q,np.std,'ricompra_si')))"
   ]
  },
  {
   "cell_type": "code",
   "execution_count": 23,
   "metadata": {},
   "outputs": [
    {
     "name": "stdout",
     "output_type": "stream",
     "text": [
      "Coloro che non ricomprano un pacchetto ricevono in media hanno in media 8 recensioni sufficienti.\n",
      "La deviazione standard è pari a 42\n"
     ]
    }
   ],
   "source": [
    "print('Coloro che non ricomprano un pacchetto ricevono in media hanno in media {0} recensioni sufficienti.\\nLa deviazione standard è pari a {1}'.format(statsRicompra(df.suff_q,np.mean, 'ricompra_no'),statsRicompra(df.suff_q,np.std,'ricompra_no')))"
   ]
  },
  {
   "cell_type": "code",
   "execution_count": 24,
   "metadata": {},
   "outputs": [
    {
     "name": "stdout",
     "output_type": "stream",
     "text": [
      "Coloro che ricomprano un pacchetto ricevono in media 16 recensioni negative.\n",
      "La deviazione standard è pari a 28\n"
     ]
    }
   ],
   "source": [
    "print('Coloro che ricomprano un pacchetto ricevono in media {0} recensioni negative.\\nLa deviazione standard è pari a {1}'.format(statsRicompra(df.bad_q,np.mean, 'ricompra_si'),statsRicompra(df.bad_q,np.std,'ricompra_si')))"
   ]
  },
  {
   "cell_type": "code",
   "execution_count": 25,
   "metadata": {},
   "outputs": [
    {
     "name": "stdout",
     "output_type": "stream",
     "text": [
      "Coloro che non ricomprano un pacchetto ricevono in media hanno in media 4 recensioni negative.\n",
      "La deviazione standard è pari a 11\n"
     ]
    }
   ],
   "source": [
    "print('Coloro che non ricomprano un pacchetto ricevono in media hanno in media {0} recensioni negative.\\nLa deviazione standard è pari a {1}'.format(statsRicompra(df.bad_q,np.mean, 'ricompra_no'),statsRicompra(df.bad_q,np.std,'ricompra_no')))"
   ]
  },
  {
   "cell_type": "code",
   "execution_count": 26,
   "metadata": {},
   "outputs": [
    {
     "name": "stdout",
     "output_type": "stream",
     "text": [
      "Coloro che ricomprano un pacchetto fanno in media 141 follow-up.\n",
      "La deviazione standard è pari a 264\n"
     ]
    }
   ],
   "source": [
    "print('Coloro che ricomprano un pacchetto fanno in media {0} follow-up.\\nLa deviazione standard è pari a {1}'.format(statsRicompra(df.follow_up,np.mean, 'ricompra_si'),statsRicompra(df.follow_up,np.std,'ricompra_si')))"
   ]
  },
  {
   "cell_type": "code",
   "execution_count": 27,
   "metadata": {},
   "outputs": [
    {
     "name": "stdout",
     "output_type": "stream",
     "text": [
      "Coloro che non ricomprano un pacchetto fanno in media 16 follow_up.\n",
      "La deviazione standard è pari a 93\n"
     ]
    }
   ],
   "source": [
    "print('Coloro che non ricomprano un pacchetto fanno in media {0} follow_up.\\nLa deviazione standard è pari a {1}'.format(statsRicompra(df.follow_up,np.mean, 'ricompra_no'),statsRicompra(df.follow_up,np.std,'ricompra_no')))"
   ]
  },
  {
   "cell_type": "code",
   "execution_count": 28,
   "metadata": {},
   "outputs": [
    {
     "name": "stdout",
     "output_type": "stream",
     "text": [
      "Coloro che ricomprano un pacchetto ricevono in media 6 revisioni approvate.\n",
      "La deviazione standard è pari a 9\n"
     ]
    }
   ],
   "source": [
    "print('Coloro che ricomprano un pacchetto ricevono in media {0} revisioni approvate.\\nLa deviazione standard è pari a {1}'.format(statsRicompra(df.rev_approved,np.mean, 'ricompra_si'),statsRicompra(df.rev_approved,np.std,'ricompra_si')))"
   ]
  },
  {
   "cell_type": "code",
   "execution_count": 29,
   "metadata": {},
   "outputs": [
    {
     "name": "stdout",
     "output_type": "stream",
     "text": [
      "Coloro che non ricomprano un pacchetto ricevono in media 1 revisioni approvate.\n",
      "La deviazione standard è pari a 3\n"
     ]
    }
   ],
   "source": [
    "print('Coloro che non ricomprano un pacchetto ricevono in media {0} revisioni approvate.\\nLa deviazione standard è pari a {1}'.format(statsRicompra(df.rev_approved,np.mean, 'ricompra_no'),statsRicompra(df.rev_approved,np.std,'ricompra_no')))"
   ]
  },
  {
   "cell_type": "markdown",
   "metadata": {},
   "source": [
    "Dopo una prima fase esplorativa, adesso possiamo iniziare con il preprocessing e la modellazione dei dati a disposizione.\n",
    "Utilizzo tutte le variabili tranne quella id, che reputo non tanto utile ai fini della modellazione"
   ]
  },
  {
   "cell_type": "code",
   "execution_count": 30,
   "metadata": {},
   "outputs": [],
   "source": [
    "df.drop('id', inplace=True, axis = 1)"
   ]
  },
  {
   "cell_type": "markdown",
   "metadata": {},
   "source": [
    "Il primo algoritmo che voglio utilizzare è KNN. Un modello abbastanza semplice che si basa sulla vicinanza tra i data points per la loro classificazione. Uno step da compiere è il cosìdetto scaling. Basandosi sulla distanza euclidea, è necessario che tutte le variabili indipendenti vengano normalizzate in modo che possano giacere sullo stesso piano.\n",
    "\n",
    "A tal fine creo una funzione che ci permette di fare questa operazione di scaling."
   ]
  },
  {
   "cell_type": "code",
   "execution_count": 31,
   "metadata": {},
   "outputs": [],
   "source": [
    "def scale(x):\n",
    "    scaler = StandardScaler()\n",
    "    scaler.fit(x)\n",
    "    scaled_features = scaler.transform(x)\n",
    "    scaledfeat = pd.DataFrame(scaled_features)\n",
    "    scaledfeat.rename(columns ={0: 'quote', 1: 'good_q',2: 'bad_q', 3: 'suff_q', 4: 'request', 5: 'follow_up', 6: 'rev_approved', 7: 'foto_profilo', 8: 'linkedin', 9:'facebook',10:'website',11:'has_description'}, inplace = True)\n",
    "    return scaledfeat"
   ]
  },
  {
   "cell_type": "markdown",
   "metadata": {},
   "source": [
    " **X** rappresenta la matrice delle variabili indipendenti mentre y è il vettore della variabile dipendente"
   ]
  },
  {
   "cell_type": "code",
   "execution_count": 32,
   "metadata": {},
   "outputs": [],
   "source": [
    "X = scale(df.loc[:,'quote':])\n",
    "y = df['repaga']"
   ]
  },
  {
   "cell_type": "markdown",
   "metadata": {},
   "source": [
    "Come possiamo notare tutte le variabili adesso si trovano in un range normalizzato (con media = 0 e deviazione standard = 1)"
   ]
  },
  {
   "cell_type": "code",
   "execution_count": 33,
   "metadata": {},
   "outputs": [
    {
     "data": {
      "text/html": [
       "<div>\n",
       "<style scoped>\n",
       "    .dataframe tbody tr th:only-of-type {\n",
       "        vertical-align: middle;\n",
       "    }\n",
       "\n",
       "    .dataframe tbody tr th {\n",
       "        vertical-align: top;\n",
       "    }\n",
       "\n",
       "    .dataframe thead th {\n",
       "        text-align: right;\n",
       "    }\n",
       "</style>\n",
       "<table border=\"1\" class=\"dataframe\">\n",
       "  <thead>\n",
       "    <tr style=\"text-align: right;\">\n",
       "      <th></th>\n",
       "      <th>quote</th>\n",
       "      <th>good_q</th>\n",
       "      <th>bad_q</th>\n",
       "      <th>suff_q</th>\n",
       "      <th>request</th>\n",
       "      <th>follow_up</th>\n",
       "      <th>rev_approved</th>\n",
       "      <th>foto_profilo</th>\n",
       "      <th>linkedin</th>\n",
       "      <th>facebook</th>\n",
       "      <th>website</th>\n",
       "      <th>has_description</th>\n",
       "    </tr>\n",
       "  </thead>\n",
       "  <tbody>\n",
       "    <tr>\n",
       "      <th>0</th>\n",
       "      <td>1.925302</td>\n",
       "      <td>2.126452</td>\n",
       "      <td>1.259086</td>\n",
       "      <td>1.380763</td>\n",
       "      <td>2.489159</td>\n",
       "      <td>3.051400</td>\n",
       "      <td>6.697943</td>\n",
       "      <td>-0.947762</td>\n",
       "      <td>-0.977454</td>\n",
       "      <td>1.032736</td>\n",
       "      <td>1.042085</td>\n",
       "      <td>1.038542</td>\n",
       "    </tr>\n",
       "    <tr>\n",
       "      <th>1</th>\n",
       "      <td>1.410155</td>\n",
       "      <td>1.531963</td>\n",
       "      <td>1.048287</td>\n",
       "      <td>1.029189</td>\n",
       "      <td>1.676206</td>\n",
       "      <td>1.244121</td>\n",
       "      <td>0.508356</td>\n",
       "      <td>-0.947762</td>\n",
       "      <td>1.023066</td>\n",
       "      <td>-0.968302</td>\n",
       "      <td>-0.959615</td>\n",
       "      <td>-0.962888</td>\n",
       "    </tr>\n",
       "    <tr>\n",
       "      <th>2</th>\n",
       "      <td>1.129166</td>\n",
       "      <td>0.727117</td>\n",
       "      <td>1.540150</td>\n",
       "      <td>1.609286</td>\n",
       "      <td>1.544789</td>\n",
       "      <td>0.576213</td>\n",
       "      <td>2.174783</td>\n",
       "      <td>1.055117</td>\n",
       "      <td>1.023066</td>\n",
       "      <td>1.032736</td>\n",
       "      <td>1.042085</td>\n",
       "      <td>1.038542</td>\n",
       "    </tr>\n",
       "    <tr>\n",
       "      <th>3</th>\n",
       "      <td>0.075457</td>\n",
       "      <td>0.068606</td>\n",
       "      <td>0.064561</td>\n",
       "      <td>0.079939</td>\n",
       "      <td>0.062524</td>\n",
       "      <td>0.112607</td>\n",
       "      <td>0.032233</td>\n",
       "      <td>1.055117</td>\n",
       "      <td>-0.977454</td>\n",
       "      <td>-0.968302</td>\n",
       "      <td>1.042085</td>\n",
       "      <td>-0.962888</td>\n",
       "    </tr>\n",
       "    <tr>\n",
       "      <th>4</th>\n",
       "      <td>3.213169</td>\n",
       "      <td>2.400831</td>\n",
       "      <td>3.648135</td>\n",
       "      <td>4.123041</td>\n",
       "      <td>2.321067</td>\n",
       "      <td>4.057190</td>\n",
       "      <td>-0.443889</td>\n",
       "      <td>1.055117</td>\n",
       "      <td>1.023066</td>\n",
       "      <td>1.032736</td>\n",
       "      <td>1.042085</td>\n",
       "      <td>-0.962888</td>\n",
       "    </tr>\n",
       "  </tbody>\n",
       "</table>\n",
       "</div>"
      ],
      "text/plain": [
       "      quote    good_q     bad_q    suff_q   request  follow_up  rev_approved  \\\n",
       "0  1.925302  2.126452  1.259086  1.380763  2.489159   3.051400      6.697943   \n",
       "1  1.410155  1.531963  1.048287  1.029189  1.676206   1.244121      0.508356   \n",
       "2  1.129166  0.727117  1.540150  1.609286  1.544789   0.576213      2.174783   \n",
       "3  0.075457  0.068606  0.064561  0.079939  0.062524   0.112607      0.032233   \n",
       "4  3.213169  2.400831  3.648135  4.123041  2.321067   4.057190     -0.443889   \n",
       "\n",
       "   foto_profilo  linkedin  facebook   website  has_description  \n",
       "0     -0.947762 -0.977454  1.032736  1.042085         1.038542  \n",
       "1     -0.947762  1.023066 -0.968302 -0.959615        -0.962888  \n",
       "2      1.055117  1.023066  1.032736  1.042085         1.038542  \n",
       "3      1.055117 -0.977454 -0.968302  1.042085        -0.962888  \n",
       "4      1.055117  1.023066  1.032736  1.042085        -0.962888  "
      ]
     },
     "execution_count": 33,
     "metadata": {},
     "output_type": "execute_result"
    }
   ],
   "source": [
    "X.head()"
   ]
  },
  {
   "cell_type": "markdown",
   "metadata": {},
   "source": [
    "La funzione **train_test_split** ci permette di dividere il dataset in 2 parti. Una parte, il train (il 75% nel mio caso) ci permetterà di 'fittare' un modello. L'altra parte, il test (il restante 25%) ci permetterà appunto di testare il modello 'fittato'. Il parametro **random_state** indica che gli oggetti creati dalla funzione **train_test_split** saranno replicati n volte uguali. Si fa perchè i train e test set vengono generati in maniera randomica."
   ]
  },
  {
   "cell_type": "code",
   "execution_count": 34,
   "metadata": {},
   "outputs": [],
   "source": [
    "X_train, X_test, y_train, y_test = train_test_split(X, y,test_size = .25,random_state=100)"
   ]
  },
  {
   "cell_type": "markdown",
   "metadata": {},
   "source": [
    "Con la seguente iterazione voglio crearmi una lista di numeri reali, ciascuno dei quali rappresenta l'error rate per ogni numero di neighbors da 1 a 30. In questo modo posso selezionare il numero di neighbors per il quale l'errore viene minimizzato."
   ]
  },
  {
   "cell_type": "code",
   "execution_count": 35,
   "metadata": {},
   "outputs": [],
   "source": [
    "error_rate = []\n",
    "\n",
    "for i in range(1,30):\n",
    "    knn = KNeighborsClassifier(n_neighbors=i)\n",
    "    knn.fit(X_train,y_train)\n",
    "    pred_i = knn.predict(X_test)\n",
    "    error_rate.append(np.mean(pred_i != y_test))"
   ]
  },
  {
   "cell_type": "code",
   "execution_count": 36,
   "metadata": {},
   "outputs": [
    {
     "data": {
      "text/plain": [
       "Text(0, 0.5, 'Error Rate')"
      ]
     },
     "execution_count": 36,
     "metadata": {},
     "output_type": "execute_result"
    },
    {
     "data": {
      "image/png": "[encoded data removed]",
      "text/plain": [
       "<Figure size 720x432 with 1 Axes>"
      ]
     },
     "metadata": {},
     "output_type": "display_data"
    }
   ],
   "source": [
    "plt.figure(figsize=(10,6))\n",
    "plt.plot(range(1,30),error_rate,color='red', linestyle='dashed', marker='o',\n",
    "         markerfacecolor='blue', markersize=8)\n",
    "plt.title('Error Rate vs. Number of K')\n",
    "plt.xlabel('Number of K')\n",
    "plt.ylabel('Error Rate')"
   ]
  },
  {
   "cell_type": "markdown",
   "metadata": {},
   "source": [
    "L'oggetto **KNeighborsClassifier** rappresenta il classificatore con il quale 'fitteremo' il modello. Ho settato il numero di neighbors basandomi sul grafico precedente. Per fortuna in questo caso il numero di neighbors che minimizza l'errore è facilmente individuabile a occhio (**13**)"
   ]
  },
  {
   "cell_type": "code",
   "execution_count": 37,
   "metadata": {},
   "outputs": [],
   "source": [
    "knn = KNeighborsClassifier(n_neighbors=13)"
   ]
  },
  {
   "cell_type": "code",
   "execution_count": 38,
   "metadata": {},
   "outputs": [
    {
     "data": {
      "text/plain": [
       "KNeighborsClassifier(algorithm='auto', leaf_size=30, metric='minkowski',\n",
       "                     metric_params=None, n_jobs=None, n_neighbors=13, p=2,\n",
       "                     weights='uniform')"
      ]
     },
     "execution_count": 38,
     "metadata": {},
     "output_type": "execute_result"
    }
   ],
   "source": [
    "knn.fit(X_train,y_train)"
   ]
  },
  {
   "cell_type": "markdown",
   "metadata": {},
   "source": [
    "Ora che abbiamo fittato un modello utilizzando il train possiamo fare la nostra previsione sul test."
   ]
  },
  {
   "cell_type": "code",
   "execution_count": 39,
   "metadata": {},
   "outputs": [],
   "source": [
    "pred = knn.predict(X_test)"
   ]
  },
  {
   "cell_type": "markdown",
   "metadata": {},
   "source": [
    "E subito dopo calcolare la performance"
   ]
  },
  {
   "cell_type": "code",
   "execution_count": 40,
   "metadata": {},
   "outputs": [
    {
     "data": {
      "text/plain": [
       "0.896"
      ]
     },
     "execution_count": 40,
     "metadata": {},
     "output_type": "execute_result"
    }
   ],
   "source": [
    "knn.score(X_test, y_test) "
   ]
  },
  {
   "cell_type": "markdown",
   "metadata": {},
   "source": [
    "A prima vista sembra un buon modello. In realtà non è detto che lo sia, in quanto, trattandosi di un dataset con due classi sbilanciate, è altamente probabile che il modello non sia in grado di prevedere la classe meno presente (nel nostro caso ricompra_si)"
   ]
  },
  {
   "cell_type": "markdown",
   "metadata": {},
   "source": [
    "Infatti come possiamo constatare sia dalla **confusion_matrix** ma anche dal **classification_report**, sebbene la classe *ricompra_no* venga classificata molto bene, quella *ricompra_si* non viene classificata bene altrettanto.\n",
    "Come possiamo vedere su 276 osservazioni che hanno il valore 'ricompra_si' solo 60 vengono classificate correttamente.\n",
    "\n",
    "E' importante notare che, dal punto di vista del business, gli errori non hanno una valenza simmetrica, o per dirla meglio, non hanno lo stesso impatto. Molte volte è meglio implementare un modello con meno accuratezza ma che predice meglio la classe che interessa di più al nostro business. In questo caso la classe di riferimento è **recompra_si**. In conclusione possiamo dire che il modello 'overfitta' la classe **recompra_no** e considera come 'noise' la classe **recompra_si**. Dunque non possiamo sostenere che il modello sia buono. "
   ]
  },
  {
   "cell_type": "code",
   "execution_count": 41,
   "metadata": {},
   "outputs": [
    {
     "name": "stdout",
     "output_type": "stream",
     "text": [
      "[[2181   43]\n",
      " [ 217   59]]\n",
      "\n",
      "\n",
      "*****************************************************\n",
      "\n",
      "\n",
      "              precision    recall  f1-score   support\n",
      "\n",
      " ricompra_no       0.91      0.98      0.94      2224\n",
      " ricompra_si       0.58      0.21      0.31       276\n",
      "\n",
      "    accuracy                           0.90      2500\n",
      "   macro avg       0.74      0.60      0.63      2500\n",
      "weighted avg       0.87      0.90      0.87      2500\n",
      "\n"
     ]
    }
   ],
   "source": [
    "print(confusion_matrix(y_test,pred))\n",
    "print('\\n')\n",
    "print('*****************************************************')\n",
    "print('\\n')\n",
    "print(classification_report(y_test,pred))"
   ]
  },
  {
   "cell_type": "markdown",
   "metadata": {},
   "source": [
    "Vediamo se, utilizzando la tecnica del cross validation, riusciamo ad ottenere una migliore prediction per la classe **recompra_si**"
   ]
  },
  {
   "cell_type": "code",
   "execution_count": 42,
   "metadata": {},
   "outputs": [],
   "source": [
    "# lista inizializzata che conterrà i punteggi della cross validation\n",
    "cv_scores = []\n",
    "\n",
    "# questa è una 10-fold cross validation (cv= 10). L'iterazione la facciamo sino a 50\n",
    "for k in list(range(1,50)):\n",
    "    knn = KNeighborsClassifier(n_neighbors=k)\n",
    "    scores = cross_val_score(knn, X_train, y_train, cv=10, scoring='accuracy')\n",
    "    cv_scores.append(scores.mean())"
   ]
  },
  {
   "cell_type": "markdown",
   "metadata": {},
   "source": [
    "Successivamente mi ricavo il Mean Squared Error per ogni valore di neighbors"
   ]
  },
  {
   "cell_type": "code",
   "execution_count": 43,
   "metadata": {},
   "outputs": [],
   "source": [
    "MSE = [1 - x for x in cv_scores]"
   ]
  },
  {
   "cell_type": "code",
   "execution_count": 44,
   "metadata": {},
   "outputs": [
    {
     "data": {
      "image/png": "[encoded data removed]",
      "text/plain": [
       "<Figure size 432x288 with 1 Axes>"
      ]
     },
     "metadata": {},
     "output_type": "display_data"
    }
   ],
   "source": [
    "plt.plot(list(range(1,50)), MSE)\n",
    "plt.xlabel('Number of Neighbors K')\n",
    "plt.ylabel('Error')\n",
    "plt.show()"
   ]
  },
  {
   "cell_type": "markdown",
   "metadata": {},
   "source": [
    "Il numero di neighbors che minimizza l'errore è 6, per uno score del 90%"
   ]
  },
  {
   "cell_type": "code",
   "execution_count": 45,
   "metadata": {},
   "outputs": [
    {
     "data": {
      "text/plain": [
       "6"
      ]
     },
     "execution_count": 45,
     "metadata": {},
     "output_type": "execute_result"
    }
   ],
   "source": [
    "MSE.index(min(MSE))"
   ]
  },
  {
   "cell_type": "code",
   "execution_count": 46,
   "metadata": {},
   "outputs": [
    {
     "data": {
      "text/plain": [
       "0    0.902666\n",
       "dtype: float64"
      ]
     },
     "execution_count": 46,
     "metadata": {},
     "output_type": "execute_result"
    }
   ],
   "source": [
    "cv_scores_max = pd.DataFrame(cv_scores).max()\n",
    "cv_scores_max"
   ]
  },
  {
   "cell_type": "code",
   "execution_count": 47,
   "metadata": {},
   "outputs": [],
   "source": [
    "knn2 = KNeighborsClassifier(n_neighbors=6)"
   ]
  },
  {
   "cell_type": "code",
   "execution_count": 48,
   "metadata": {},
   "outputs": [],
   "source": [
    "y_pred = cross_val_predict(knn2, X_test, y_test, cv=10)"
   ]
  },
  {
   "cell_type": "code",
   "execution_count": 49,
   "metadata": {},
   "outputs": [
    {
     "name": "stdout",
     "output_type": "stream",
     "text": [
      "[[2188   36]\n",
      " [ 236   40]]\n",
      "\n",
      "\n",
      "*****************************************************\n",
      "\n",
      "\n",
      "              precision    recall  f1-score   support\n",
      "\n",
      " ricompra_no       0.90      0.98      0.94      2224\n",
      " ricompra_si       0.53      0.14      0.23       276\n",
      "\n",
      "    accuracy                           0.89      2500\n",
      "   macro avg       0.71      0.56      0.58      2500\n",
      "weighted avg       0.86      0.89      0.86      2500\n",
      "\n"
     ]
    }
   ],
   "source": [
    "print(confusion_matrix(y_test,y_pred))\n",
    "print('\\n')\n",
    "print('*****************************************************')\n",
    "print('\\n')\n",
    "print(classification_report(y_test,y_pred))"
   ]
  },
  {
   "cell_type": "markdown",
   "metadata": {},
   "source": [
    "Per nostra sfortuna, il modello overfitta sempre di più."
   ]
  },
  {
   "cell_type": "markdown",
   "metadata": {},
   "source": [
    "Direi che è il caso di provare a utilizzare dei modelli più complessi. Provo a iniziare dal DecisionTree, un modello non lineare che ci permette di costruire uno schema ad albero che si basa su delle decisioni. Il parametro **class_weight = balanced** ci permette di trattare ogni categoria come egualmente importante  "
   ]
  },
  {
   "cell_type": "code",
   "execution_count": 50,
   "metadata": {},
   "outputs": [],
   "source": [
    "dtree = DecisionTreeClassifier(class_weight='balanced')"
   ]
  },
  {
   "cell_type": "code",
   "execution_count": 51,
   "metadata": {},
   "outputs": [
    {
     "data": {
      "text/plain": [
       "DecisionTreeClassifier(class_weight='balanced', criterion='gini',\n",
       "                       max_depth=None, max_features=None, max_leaf_nodes=None,\n",
       "                       min_impurity_decrease=0.0, min_impurity_split=None,\n",
       "                       min_samples_leaf=1, min_samples_split=2,\n",
       "                       min_weight_fraction_leaf=0.0, presort=False,\n",
       "                       random_state=None, splitter='best')"
      ]
     },
     "execution_count": 51,
     "metadata": {},
     "output_type": "execute_result"
    }
   ],
   "source": [
    "dtree.fit(X_train,y_train)"
   ]
  },
  {
   "cell_type": "code",
   "execution_count": 52,
   "metadata": {},
   "outputs": [],
   "source": [
    "predictions = dtree.predict(X_test)"
   ]
  },
  {
   "cell_type": "code",
   "execution_count": 53,
   "metadata": {},
   "outputs": [
    {
     "data": {
      "text/plain": [
       "0.8456"
      ]
     },
     "execution_count": 53,
     "metadata": {},
     "output_type": "execute_result"
    }
   ],
   "source": [
    "dtree.score(X_test, y_test)"
   ]
  },
  {
   "cell_type": "code",
   "execution_count": 54,
   "metadata": {},
   "outputs": [
    {
     "name": "stdout",
     "output_type": "stream",
     "text": [
      "[[2029  195]\n",
      " [ 191   85]]\n",
      "\n",
      "\n",
      "*****************************************************\n",
      "\n",
      "\n",
      "              precision    recall  f1-score   support\n",
      "\n",
      " ricompra_no       0.91      0.91      0.91      2224\n",
      " ricompra_si       0.30      0.31      0.31       276\n",
      "\n",
      "    accuracy                           0.85      2500\n",
      "   macro avg       0.61      0.61      0.61      2500\n",
      "weighted avg       0.85      0.85      0.85      2500\n",
      "\n"
     ]
    }
   ],
   "source": [
    "print(confusion_matrix(y_test,predictions))\n",
    "print('\\n')\n",
    "print('*****************************************************')\n",
    "print('\\n')\n",
    "print(classification_report(y_test,predictions))"
   ]
  },
  {
   "cell_type": "markdown",
   "metadata": {},
   "source": [
    "Il modello ci apporta qualche miglioramento rispetto al KNN in termini di previsione della variabile **ricompra_si**, però non sostanziale."
   ]
  },
  {
   "cell_type": "markdown",
   "metadata": {},
   "source": [
    "Proviamo con il random forest, una modello che fa parte della categoria delgi ensemble. Sicuramente  è più complesso rispetto ai due precedenti dal punto di vista dell'interpretazione ma allo stesso tempo è in grado di gestire meglio il problema delle imbalanced classes per via del resampling, una tecnica che serve per limitare l'overfitting. \n",
    "Imposto 100 come numero di classificatori che vengono utilizzati dall'algoritmo."
   ]
  },
  {
   "cell_type": "code",
   "execution_count": 55,
   "metadata": {},
   "outputs": [],
   "source": [
    "rfc = RandomForestClassifier(150)"
   ]
  },
  {
   "cell_type": "code",
   "execution_count": 56,
   "metadata": {},
   "outputs": [
    {
     "data": {
      "text/plain": [
       "RandomForestClassifier(bootstrap=True, class_weight=None, criterion='gini',\n",
       "                       max_depth=None, max_features='auto', max_leaf_nodes=None,\n",
       "                       min_impurity_decrease=0.0, min_impurity_split=None,\n",
       "                       min_samples_leaf=1, min_samples_split=2,\n",
       "                       min_weight_fraction_leaf=0.0, n_estimators=150,\n",
       "                       n_jobs=None, oob_score=False, random_state=None,\n",
       "                       verbose=0, warm_start=False)"
      ]
     },
     "execution_count": 56,
     "metadata": {},
     "output_type": "execute_result"
    }
   ],
   "source": [
    "rfc.fit(X_train,y_train)"
   ]
  },
  {
   "cell_type": "code",
   "execution_count": 57,
   "metadata": {},
   "outputs": [],
   "source": [
    "predictionsrf = rfc.predict(X_test)"
   ]
  },
  {
   "cell_type": "code",
   "execution_count": 58,
   "metadata": {},
   "outputs": [
    {
     "data": {
      "text/plain": [
       "0.89"
      ]
     },
     "execution_count": 58,
     "metadata": {},
     "output_type": "execute_result"
    }
   ],
   "source": [
    "rfc.score(X_test, y_test)"
   ]
  },
  {
   "cell_type": "code",
   "execution_count": 59,
   "metadata": {},
   "outputs": [
    {
     "name": "stdout",
     "output_type": "stream",
     "text": [
      "[[2144   80]\n",
      " [ 195   81]]\n",
      "\n",
      "\n",
      "*****************************************************\n",
      "\n",
      "\n",
      "              precision    recall  f1-score   support\n",
      "\n",
      " ricompra_no       0.92      0.96      0.94      2224\n",
      " ricompra_si       0.50      0.29      0.37       276\n",
      "\n",
      "    accuracy                           0.89      2500\n",
      "   macro avg       0.71      0.63      0.66      2500\n",
      "weighted avg       0.87      0.89      0.88      2500\n",
      "\n"
     ]
    }
   ],
   "source": [
    "print(confusion_matrix(y_test,predictionsrf))\n",
    "print('\\n')\n",
    "print('*****************************************************')\n",
    "print('\\n')\n",
    "print(classification_report(y_test,predictionsrf))"
   ]
  },
  {
   "cell_type": "markdown",
   "metadata": {},
   "source": [
    "Non è proprio il risultato che ci aspettavamo. Il recall (che risponde alla domanda: per tutti i professionisti che avevano effettivamente ricomprato un pacchetto, quale percentuale è stata classificata correttamente?) per i valori **ricompra_si** è addirittura peggiorato."
   ]
  },
  {
   "cell_type": "markdown",
   "metadata": {},
   "source": [
    "Una tecnica aggiuntiva e molto utile è rappresentata dalla così detta feature selection. Ci permette di capire se tra le variabili indipendenti, ci sono quelle che sono 'noisy' e ci danno poco in termini di previsione.\n",
    "\n",
    "\n",
    "Utilizzo la classe RFE (recursive feature elimination) per assegnare i pesi alle features in modo da ricavare la classifica di quelle più importanti. Proviamo con 6 (la metà)"
   ]
  },
  {
   "cell_type": "code",
   "execution_count": 60,
   "metadata": {},
   "outputs": [],
   "source": [
    "rfe = RFE(rfc, 6)\n",
    "rfe = rfe.fit(X,y) "
   ]
  },
  {
   "cell_type": "code",
   "execution_count": 61,
   "metadata": {},
   "outputs": [
    {
     "name": "stdout",
     "output_type": "stream",
     "text": [
      "[ True  True False  True  True  True  True False False False False False]\n",
      "[1 1 2 1 1 1 1 7 6 4 3 5]\n"
     ]
    }
   ],
   "source": [
    "print(rfe.support_)\n",
    "print(rfe.ranking_)"
   ]
  },
  {
   "cell_type": "markdown",
   "metadata": {},
   "source": [
    "Piccolo reminder per inquadrare l'ordine delle features"
   ]
  },
  {
   "cell_type": "code",
   "execution_count": 62,
   "metadata": {},
   "outputs": [
    {
     "data": {
      "text/plain": [
       "Index(['quote', 'good_q', 'bad_q', 'suff_q', 'request', 'follow_up',\n",
       "       'rev_approved', 'foto_profilo', 'linkedin', 'facebook', 'website',\n",
       "       'has_description'],\n",
       "      dtype='object')"
      ]
     },
     "execution_count": 62,
     "metadata": {},
     "output_type": "execute_result"
    }
   ],
   "source": [
    "X.columns"
   ]
  },
  {
   "cell_type": "markdown",
   "metadata": {},
   "source": [
    "Le 6 più importanti features sono 'quote', 'good_q', 'suff_q', 'request', 'follow up' e 'res_approved'"
   ]
  },
  {
   "cell_type": "markdown",
   "metadata": {},
   "source": [
    "Per esserne ancora più sicuri, faccio un double check utilizzando la proprietà **feature_importance**.\n",
    "Possiamo notare come il numero di richieste sia quella più importante. Ha senso dal punto di vista del business, in quanto è la variabile che determina più di ogni altra il riacquisto di pacchetti. \n",
    "\n",
    "**La domanda (richieste) stimola l'offerta.** "
   ]
  },
  {
   "cell_type": "code",
   "execution_count": 63,
   "metadata": {},
   "outputs": [
    {
     "name": "stdout",
     "output_type": "stream",
     "text": [
      "[0.11111483 0.12071264 0.06866128 0.09027526 0.25398499 0.11905196\n",
      " 0.09577828 0.02560982 0.02746825 0.02872358 0.02933654 0.02928258]\n"
     ]
    }
   ],
   "source": [
    "rfc.fit(X,y)\n",
    "print(rfc.feature_importances_)"
   ]
  },
  {
   "cell_type": "markdown",
   "metadata": {},
   "source": [
    "Abbiamo avuto conferma che le 6 features più importanti sono quelle che abbiamo ottenuto in precedenza"
   ]
  },
  {
   "cell_type": "markdown",
   "metadata": {},
   "source": [
    "Creiamo una nuova matrice di features basandoci sui risultati appena ottenuti."
   ]
  },
  {
   "cell_type": "code",
   "execution_count": 64,
   "metadata": {},
   "outputs": [],
   "source": [
    "X2 = df.loc[:,['quote', 'good_q', 'suff_q', 'request', 'follow_up',\n",
    "       'rev_approved']]"
   ]
  },
  {
   "cell_type": "markdown",
   "metadata": {},
   "source": [
    "Utilizzo il nuovo df delle features come input per generare nuovamente il train."
   ]
  },
  {
   "cell_type": "code",
   "execution_count": 65,
   "metadata": {},
   "outputs": [],
   "source": [
    "X2_train, X2_test, y_train, y_test = train_test_split(X2, y, test_size = .25,random_state=100)"
   ]
  },
  {
   "cell_type": "markdown",
   "metadata": {},
   "source": [
    "Fitto un modello basandomi utilizzando l'oggetto creato in precedenza (quello che cambia è il train)"
   ]
  },
  {
   "cell_type": "code",
   "execution_count": 66,
   "metadata": {},
   "outputs": [
    {
     "data": {
      "text/plain": [
       "RandomForestClassifier(bootstrap=True, class_weight=None, criterion='gini',\n",
       "                       max_depth=None, max_features='auto', max_leaf_nodes=None,\n",
       "                       min_impurity_decrease=0.0, min_impurity_split=None,\n",
       "                       min_samples_leaf=1, min_samples_split=2,\n",
       "                       min_weight_fraction_leaf=0.0, n_estimators=150,\n",
       "                       n_jobs=None, oob_score=False, random_state=None,\n",
       "                       verbose=0, warm_start=False)"
      ]
     },
     "execution_count": 66,
     "metadata": {},
     "output_type": "execute_result"
    }
   ],
   "source": [
    "rfc.fit(X2_train,y_train)"
   ]
  },
  {
   "cell_type": "code",
   "execution_count": 67,
   "metadata": {},
   "outputs": [],
   "source": [
    "predictionsrfc = rfc.predict(X2_test)"
   ]
  },
  {
   "cell_type": "code",
   "execution_count": 68,
   "metadata": {},
   "outputs": [
    {
     "name": "stdout",
     "output_type": "stream",
     "text": [
      "[[2147   77]\n",
      " [ 189   87]]\n",
      "\n",
      "\n",
      "*****************************************************\n",
      "\n",
      "\n",
      "              precision    recall  f1-score   support\n",
      "\n",
      " ricompra_no       0.92      0.97      0.94      2224\n",
      " ricompra_si       0.53      0.32      0.40       276\n",
      "\n",
      "    accuracy                           0.89      2500\n",
      "   macro avg       0.72      0.64      0.67      2500\n",
      "weighted avg       0.88      0.89      0.88      2500\n",
      "\n"
     ]
    }
   ],
   "source": [
    "print(confusion_matrix(y_test,predictionsrfc))\n",
    "print('\\n')\n",
    "print('*****************************************************')\n",
    "print('\\n')\n",
    "print(classification_report(y_test,predictionsrfc))"
   ]
  },
  {
   "cell_type": "code",
   "execution_count": 69,
   "metadata": {},
   "outputs": [
    {
     "data": {
      "text/plain": [
       "0.8936"
      ]
     },
     "execution_count": 69,
     "metadata": {},
     "output_type": "execute_result"
    }
   ],
   "source": [
    "rfc.score(X2_test, y_test)"
   ]
  },
  {
   "cell_type": "markdown",
   "metadata": {},
   "source": [
    "## CONCLUSIONI"
   ]
  },
  {
   "cell_type": "markdown",
   "metadata": {},
   "source": [
    "I modelli che ho implementato hanno tutto sommato una buona accuratezza, ma non riescono a catturare efficacemente la previsione del valore **recompra_si**, il quale, non a caso, è il *KPI* che si vuole massimizzare.\n",
    "Tra i modelli utilizzati senza dubbio il random forest con 6 variabili indipendenti è il migliore, non solo in termini assoluti, ma soprattutto perchè riesce a prevedere meglio i casi di **recompra_si**.\n",
    "Dal punto di vista del business è importante capire che gli errori di previsione non hanno lo stesso peso. \n",
    "In questo caso possiamo dire:\n",
    "- se il nostro modello ci dice che il professionista ricomprerà ma in realtà non ricompra (FALSI NEGATIVI), ci troviamo nella casistica peggiore, per due ragioni:\n",
    "    1. Dobbiamo sostenere i costi per l'acquisizione di un nuovo cliente per recuperare quello che pensavamo di avere nel nostro portafoglio (sappiamo che attrarre nuovi clienti costa molto di più rispetto a fidelizzare quelli già esistenti).\n",
    "    2. Bisogna anche considerare di conseguenza il profitto perso;\n",
    "- se invece il nostro modello ci dice che il professionista non ricomprerà ma in realtà ricompra (FALSI POSITIVI), le nostre attività di marketing saranno inutili. Erroneamente potremmo indirizzare un messaggio che possa indurre il professionista alla fidelizzazione quando in realtà è gia fidelizzato.\n",
    "\n",
    "Tra i due errori, secondo me il primo è più rilevante e ha un peso più grande.\n",
    "\n",
    "Ripercorriamo un pò i modelli utilizzati:\n",
    "\n",
    "- Il KNN tra i modelli ha un'accuratezza più bassa, è il migliore per quanto riguarda i FALSI POSITIVI (li minimizza)\n",
    "- Con il DecisionTree miglioriamo l'accuratezza, peggiora la previsione dei FALSI POSITIVI e migliora quella dei FALSI NEGATIVI\n",
    "- Infine con la Random Forest abbiamo un miglioramento in termini di accuratezza ma soprattutto in termini di minimizzazione dei FALSI NEGATIVI, che è veramente quello che interessa al business.\n",
    "\n",
    "Essere in grado di focalizzare gli sforzi su questo punto e fare fine-tuning ricercando il miglior modello in termine di minimizzazione dei FALSI NEGATIVI può apportare dei vantaggi tangibili al business.  \n",
    "Un altro spunto interessante è rappresentato dalle variabili più importanti. Grazie alla libreria **feature_selection** di *Python* sono riuscito a estrapolare le *6* variabili che influiscono di più la variabile di risposta. Possiamo dire che le dummy variables sono le meno importanti e il numero di richieste gioca un ruolo fondalmentale.\n",
    "Piccolo appunto: avrei potuto utilizzare le variabili non normalizzate per i modelli tree based (decision tree e random forest) però ho ritenuto più opportuno usare una matrice con valori normalizzati, come fatto per il modello KNN"
   ]
  },
  {
   "cell_type": "markdown",
   "metadata": {},
   "source": [
    "## Grazie per l'attenzione"
   ]
  },
  {
   "cell_type": "markdown",
   "metadata": {},
   "source": [
    "### Luca RIZZI"
   ]
  }
 ],
 "metadata": {
  "kernelspec": {
   "display_name": "Python 3",
   "language": "python",
   "name": "python3"
  },
  "language_info": {
   "codemirror_mode": {
    "name": "ipython",
    "version": 3
   },
   "file_extension": ".py",
   "mimetype": "text/x-python",
   "name": "python",
   "nbconvert_exporter": "python",
   "pygments_lexer": "ipython3",
   "version": "3.6.7"
  }
 },
 "nbformat": 4,
 "nbformat_minor": 2
}
