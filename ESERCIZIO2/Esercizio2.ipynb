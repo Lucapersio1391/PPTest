{
 "cells": [
  {
   "cell_type": "markdown",
   "metadata": {},
   "source": [
    "## ESERCIZIO 2"
   ]
  },
  {
   "cell_type": "markdown",
   "metadata": {},
   "source": [
    "La prima cosa da fare è importare le librerie necessarie per svolgere l'analisi"
   ]
  },
  {
   "cell_type": "code",
   "execution_count": 1,
   "metadata": {},
   "outputs": [
    {
     "name": "stderr",
     "output_type": "stream",
     "text": [
      "Loading required package: readr\n",
      "Loading required package: dplyr\n",
      "\n",
      "Attaching package: ‘dplyr’\n",
      "\n",
      "The following objects are masked from ‘package:stats’:\n",
      "\n",
      "    filter, lag\n",
      "\n",
      "The following objects are masked from ‘package:base’:\n",
      "\n",
      "    intersect, setdiff, setequal, union\n",
      "\n",
      "Loading required package: ggplot2\n",
      "Loading required package: ggpubr\n",
      "Loading required package: magrittr\n"
     ]
    }
   ],
   "source": [
    "# Readr la utilizzerò per leggere il csv di input\n",
    "require(readr)\n",
    "# Libreria abbastanza pratica per la manipolazione dei dati\n",
    "require(dplyr)\n",
    "# Queste ultime serviranno per la data visualization\n",
    "require(ggplot2)\n",
    "require(ggpubr)"
   ]
  },
  {
   "cell_type": "markdown",
   "metadata": {},
   "source": [
    "Ho scelto la funzione **read_delim** della libreria *ReadR* perchè è la più flessibile. Nulla mi vieta di utilizzare un'altra funzione tipo **read_csv**.\n",
    "Il primo argomento contiene il percorso del file che vogliamo importare (percorso relativo partendo dalla working directory, che nel mio caso è la home), il secondo contiene il delimitatore dei valori e il terzo serve per settare manualmente il data type a ogni colonna."
   ]
  },
  {
   "cell_type": "code",
   "execution_count": 2,
   "metadata": {},
   "outputs": [],
   "source": [
    "data <- read_delim('Downloads/data.csv', delim = ',', col_types = \n",
    "cols(\n",
    "  servizio = col_character(),\n",
    "  num_pro = col_integer(),\n",
    "  M = col_integer(),\n",
    "  F = col_integer(),\n",
    "  prov_si = col_integer(),\n",
    "  prov_no = col_integer(),\n",
    "  num_rqst = col_integer(),\n",
    "  num_qt = col_integer(),\n",
    "  quote_per_request = col_double()\n",
    "))"
   ]
  },
  {
   "cell_type": "markdown",
   "metadata": {},
   "source": [
    "La funzione **head()** serve per limitare il numero di righe che vogliamo in output. Il valore di default è 5, ma in questo caso ho settato 3 appositamente perchè c'è un problema di encoding che riguarda la quarta riga."
   ]
  },
  {
   "cell_type": "code",
   "execution_count": 3,
   "metadata": {},
   "outputs": [
    {
     "data": {
      "text/html": [
       "<table>\n",
       "<caption>A tibble: 3 × 9</caption>\n",
       "<thead>\n",
       "\t<tr><th scope=col>servizio</th><th scope=col>num_pro</th><th scope=col>M</th><th scope=col>F</th><th scope=col>prov_si</th><th scope=col>prov_no</th><th scope=col>num_rqst</th><th scope=col>num_qt</th><th scope=col>quote_per_request</th></tr>\n",
       "\t<tr><th scope=col>&lt;chr&gt;</th><th scope=col>&lt;int&gt;</th><th scope=col>&lt;int&gt;</th><th scope=col>&lt;int&gt;</th><th scope=col>&lt;int&gt;</th><th scope=col>&lt;int&gt;</th><th scope=col>&lt;int&gt;</th><th scope=col>&lt;int&gt;</th><th scope=col>&lt;dbl&gt;</th></tr>\n",
       "</thead>\n",
       "<tbody>\n",
       "\t<tr><td>Antifurto e allarme                      </td><td>10</td><td> 3</td><td> 7</td><td> 6</td><td> 4</td><td>18</td><td>11</td><td>0.6111</td></tr>\n",
       "\t<tr><td>Catering e banqueting                    </td><td>31</td><td> 9</td><td>22</td><td>15</td><td>16</td><td>37</td><td>33</td><td>0.8919</td></tr>\n",
       "\t<tr><td>Certificato conformità impianto elettrico</td><td>22</td><td>10</td><td>12</td><td>12</td><td>10</td><td>23</td><td>24</td><td>1.0435</td></tr>\n",
       "</tbody>\n",
       "</table>\n"
      ],
      "text/latex": [
       "A tibble: 3 × 9\n",
       "\\begin{tabular}{r|lllllllll}\n",
       " servizio & num\\_pro & M & F & prov\\_si & prov\\_no & num\\_rqst & num\\_qt & quote\\_per\\_request\\\\\n",
       " <chr> & <int> & <int> & <int> & <int> & <int> & <int> & <int> & <dbl>\\\\\n",
       "\\hline\n",
       "\t Antifurto e allarme                       & 10 &  3 &  7 &  6 &  4 & 18 & 11 & 0.6111\\\\\n",
       "\t Catering e banqueting                     & 31 &  9 & 22 & 15 & 16 & 37 & 33 & 0.8919\\\\\n",
       "\t Certificato conformità impianto elettrico & 22 & 10 & 12 & 12 & 10 & 23 & 24 & 1.0435\\\\\n",
       "\\end{tabular}\n"
      ],
      "text/markdown": [
       "\n",
       "A tibble: 3 × 9\n",
       "\n",
       "| servizio &lt;chr&gt; | num_pro &lt;int&gt; | M &lt;int&gt; | F &lt;int&gt; | prov_si &lt;int&gt; | prov_no &lt;int&gt; | num_rqst &lt;int&gt; | num_qt &lt;int&gt; | quote_per_request &lt;dbl&gt; |\n",
       "|---|---|---|---|---|---|---|---|---|\n",
       "| Antifurto e allarme                       | 10 |  3 |  7 |  6 |  4 | 18 | 11 | 0.6111 |\n",
       "| Catering e banqueting                     | 31 |  9 | 22 | 15 | 16 | 37 | 33 | 0.8919 |\n",
       "| Certificato conformità impianto elettrico | 22 | 10 | 12 | 12 | 10 | 23 | 24 | 1.0435 |\n",
       "\n"
      ],
      "text/plain": [
       "  servizio                                  num_pro M  F  prov_si prov_no\n",
       "1 Antifurto e allarme                       10       3  7  6       4     \n",
       "2 Catering e banqueting                     31       9 22 15      16     \n",
       "3 Certificato conformità impianto elettrico 22      10 12 12      10     \n",
       "  num_rqst num_qt quote_per_request\n",
       "1 18       11     0.6111           \n",
       "2 37       33     0.8919           \n",
       "3 23       24     1.0435           "
      ]
     },
     "metadata": {},
     "output_type": "display_data"
    }
   ],
   "source": [
    "head(data,3)"
   ]
  },
  {
   "cell_type": "markdown",
   "metadata": {},
   "source": [
    "Fortunatamente il campo che crea problemi di encoding è un duplicato del valore **'Certificato conformità impianto elettrico'**. Pertanto lo possiamo rimuovere dal nostro dataset passando da 18 a 17 righe."
   ]
  },
  {
   "cell_type": "code",
   "execution_count": 4,
   "metadata": {},
   "outputs": [
    {
     "name": "stdout",
     "output_type": "stream",
     "text": [
      "[1] 18\n"
     ]
    },
    {
     "data": {
      "text/html": [
       "<table>\n",
       "<caption>A tibble: 17 × 9</caption>\n",
       "<thead>\n",
       "\t<tr><th scope=col>servizio</th><th scope=col>num_pro</th><th scope=col>M</th><th scope=col>F</th><th scope=col>prov_si</th><th scope=col>prov_no</th><th scope=col>num_rqst</th><th scope=col>num_qt</th><th scope=col>quote_per_request</th></tr>\n",
       "\t<tr><th scope=col>&lt;chr&gt;</th><th scope=col>&lt;int&gt;</th><th scope=col>&lt;int&gt;</th><th scope=col>&lt;int&gt;</th><th scope=col>&lt;int&gt;</th><th scope=col>&lt;int&gt;</th><th scope=col>&lt;int&gt;</th><th scope=col>&lt;int&gt;</th><th scope=col>&lt;dbl&gt;</th></tr>\n",
       "</thead>\n",
       "<tbody>\n",
       "\t<tr><td>Antifurto e allarme                         </td><td>10</td><td> 3</td><td> 7</td><td> 6</td><td> 4</td><td>18</td><td>11</td><td>0.6111</td></tr>\n",
       "\t<tr><td>Catering e banqueting                       </td><td>31</td><td> 9</td><td>22</td><td>15</td><td>16</td><td>37</td><td>33</td><td>0.8919</td></tr>\n",
       "\t<tr><td>Certificato conformità impianto elettrico   </td><td>22</td><td>10</td><td>12</td><td>12</td><td>10</td><td>23</td><td>24</td><td>1.0435</td></tr>\n",
       "\t<tr><td>Certificazione energetica                   </td><td>19</td><td> 4</td><td>15</td><td> 8</td><td>11</td><td>16</td><td>13</td><td>0.8125</td></tr>\n",
       "\t<tr><td>Consulente per l'alimentazione/Nutrizionista</td><td>24</td><td>10</td><td>14</td><td>12</td><td>12</td><td>23</td><td>20</td><td>0.8696</td></tr>\n",
       "\t<tr><td>Decoratore pareti interne                   </td><td>14</td><td> 8</td><td> 6</td><td> 8</td><td> 6</td><td>18</td><td>18</td><td>1.0000</td></tr>\n",
       "\t<tr><td>Dog sitter                                  </td><td>16</td><td> 7</td><td> 9</td><td>10</td><td> 6</td><td>20</td><td>14</td><td>0.7000</td></tr>\n",
       "\t<tr><td>Elettricista                                </td><td>20</td><td> 8</td><td>12</td><td>10</td><td>10</td><td>28</td><td>20</td><td>0.7143</td></tr>\n",
       "\t<tr><td>Fotografo per eventi                        </td><td>21</td><td> 6</td><td>15</td><td>10</td><td>11</td><td>18</td><td>19</td><td>1.0556</td></tr>\n",
       "\t<tr><td>Idraulico                                   </td><td>22</td><td> 8</td><td>14</td><td>11</td><td>11</td><td>18</td><td>28</td><td>1.5556</td></tr>\n",
       "\t<tr><td>Imbianchino                                 </td><td>26</td><td> 8</td><td>18</td><td>11</td><td>15</td><td>20</td><td>30</td><td>1.5000</td></tr>\n",
       "\t<tr><td>Lezioni di chitarra                         </td><td>19</td><td> 7</td><td>12</td><td>10</td><td> 9</td><td>21</td><td>12</td><td>0.5714</td></tr>\n",
       "\t<tr><td>Lezioni di inglese                          </td><td>19</td><td> 3</td><td>16</td><td> 6</td><td>13</td><td>23</td><td>15</td><td>0.6522</td></tr>\n",
       "\t<tr><td>Manutenzione o revisione caldaia            </td><td>29</td><td>11</td><td>18</td><td>14</td><td>15</td><td>23</td><td>25</td><td>1.0870</td></tr>\n",
       "\t<tr><td>Personal trainer                            </td><td>15</td><td> 5</td><td>10</td><td> 7</td><td> 8</td><td>14</td><td>10</td><td>0.7143</td></tr>\n",
       "\t<tr><td>Ristrutturazione bagno                      </td><td>16</td><td> 7</td><td> 9</td><td>10</td><td> 6</td><td>27</td><td>17</td><td>0.6296</td></tr>\n",
       "\t<tr><td>Ristrutturazione casa                       </td><td>27</td><td> 9</td><td>18</td><td>11</td><td>16</td><td>28</td><td>29</td><td>1.0357</td></tr>\n",
       "</tbody>\n",
       "</table>\n"
      ],
      "text/latex": [
       "A tibble: 17 × 9\n",
       "\\begin{tabular}{r|lllllllll}\n",
       " servizio & num\\_pro & M & F & prov\\_si & prov\\_no & num\\_rqst & num\\_qt & quote\\_per\\_request\\\\\n",
       " <chr> & <int> & <int> & <int> & <int> & <int> & <int> & <int> & <dbl>\\\\\n",
       "\\hline\n",
       "\t Antifurto e allarme                          & 10 &  3 &  7 &  6 &  4 & 18 & 11 & 0.6111\\\\\n",
       "\t Catering e banqueting                        & 31 &  9 & 22 & 15 & 16 & 37 & 33 & 0.8919\\\\\n",
       "\t Certificato conformità impianto elettrico    & 22 & 10 & 12 & 12 & 10 & 23 & 24 & 1.0435\\\\\n",
       "\t Certificazione energetica                    & 19 &  4 & 15 &  8 & 11 & 16 & 13 & 0.8125\\\\\n",
       "\t Consulente per l'alimentazione/Nutrizionista & 24 & 10 & 14 & 12 & 12 & 23 & 20 & 0.8696\\\\\n",
       "\t Decoratore pareti interne                    & 14 &  8 &  6 &  8 &  6 & 18 & 18 & 1.0000\\\\\n",
       "\t Dog sitter                                   & 16 &  7 &  9 & 10 &  6 & 20 & 14 & 0.7000\\\\\n",
       "\t Elettricista                                 & 20 &  8 & 12 & 10 & 10 & 28 & 20 & 0.7143\\\\\n",
       "\t Fotografo per eventi                         & 21 &  6 & 15 & 10 & 11 & 18 & 19 & 1.0556\\\\\n",
       "\t Idraulico                                    & 22 &  8 & 14 & 11 & 11 & 18 & 28 & 1.5556\\\\\n",
       "\t Imbianchino                                  & 26 &  8 & 18 & 11 & 15 & 20 & 30 & 1.5000\\\\\n",
       "\t Lezioni di chitarra                          & 19 &  7 & 12 & 10 &  9 & 21 & 12 & 0.5714\\\\\n",
       "\t Lezioni di inglese                           & 19 &  3 & 16 &  6 & 13 & 23 & 15 & 0.6522\\\\\n",
       "\t Manutenzione o revisione caldaia             & 29 & 11 & 18 & 14 & 15 & 23 & 25 & 1.0870\\\\\n",
       "\t Personal trainer                             & 15 &  5 & 10 &  7 &  8 & 14 & 10 & 0.7143\\\\\n",
       "\t Ristrutturazione bagno                       & 16 &  7 &  9 & 10 &  6 & 27 & 17 & 0.6296\\\\\n",
       "\t Ristrutturazione casa                        & 27 &  9 & 18 & 11 & 16 & 28 & 29 & 1.0357\\\\\n",
       "\\end{tabular}\n"
      ],
      "text/markdown": [
       "\n",
       "A tibble: 17 × 9\n",
       "\n",
       "| servizio &lt;chr&gt; | num_pro &lt;int&gt; | M &lt;int&gt; | F &lt;int&gt; | prov_si &lt;int&gt; | prov_no &lt;int&gt; | num_rqst &lt;int&gt; | num_qt &lt;int&gt; | quote_per_request &lt;dbl&gt; |\n",
       "|---|---|---|---|---|---|---|---|---|\n",
       "| Antifurto e allarme                          | 10 |  3 |  7 |  6 |  4 | 18 | 11 | 0.6111 |\n",
       "| Catering e banqueting                        | 31 |  9 | 22 | 15 | 16 | 37 | 33 | 0.8919 |\n",
       "| Certificato conformità impianto elettrico    | 22 | 10 | 12 | 12 | 10 | 23 | 24 | 1.0435 |\n",
       "| Certificazione energetica                    | 19 |  4 | 15 |  8 | 11 | 16 | 13 | 0.8125 |\n",
       "| Consulente per l'alimentazione/Nutrizionista | 24 | 10 | 14 | 12 | 12 | 23 | 20 | 0.8696 |\n",
       "| Decoratore pareti interne                    | 14 |  8 |  6 |  8 |  6 | 18 | 18 | 1.0000 |\n",
       "| Dog sitter                                   | 16 |  7 |  9 | 10 |  6 | 20 | 14 | 0.7000 |\n",
       "| Elettricista                                 | 20 |  8 | 12 | 10 | 10 | 28 | 20 | 0.7143 |\n",
       "| Fotografo per eventi                         | 21 |  6 | 15 | 10 | 11 | 18 | 19 | 1.0556 |\n",
       "| Idraulico                                    | 22 |  8 | 14 | 11 | 11 | 18 | 28 | 1.5556 |\n",
       "| Imbianchino                                  | 26 |  8 | 18 | 11 | 15 | 20 | 30 | 1.5000 |\n",
       "| Lezioni di chitarra                          | 19 |  7 | 12 | 10 |  9 | 21 | 12 | 0.5714 |\n",
       "| Lezioni di inglese                           | 19 |  3 | 16 |  6 | 13 | 23 | 15 | 0.6522 |\n",
       "| Manutenzione o revisione caldaia             | 29 | 11 | 18 | 14 | 15 | 23 | 25 | 1.0870 |\n",
       "| Personal trainer                             | 15 |  5 | 10 |  7 |  8 | 14 | 10 | 0.7143 |\n",
       "| Ristrutturazione bagno                       | 16 |  7 |  9 | 10 |  6 | 27 | 17 | 0.6296 |\n",
       "| Ristrutturazione casa                        | 27 |  9 | 18 | 11 | 16 | 28 | 29 | 1.0357 |\n",
       "\n"
      ],
      "text/plain": [
       "   servizio                                     num_pro M  F  prov_si prov_no\n",
       "1  Antifurto e allarme                          10       3  7  6       4     \n",
       "2  Catering e banqueting                        31       9 22 15      16     \n",
       "3  Certificato conformità impianto elettrico    22      10 12 12      10     \n",
       "4  Certificazione energetica                    19       4 15  8      11     \n",
       "5  Consulente per l'alimentazione/Nutrizionista 24      10 14 12      12     \n",
       "6  Decoratore pareti interne                    14       8  6  8       6     \n",
       "7  Dog sitter                                   16       7  9 10       6     \n",
       "8  Elettricista                                 20       8 12 10      10     \n",
       "9  Fotografo per eventi                         21       6 15 10      11     \n",
       "10 Idraulico                                    22       8 14 11      11     \n",
       "11 Imbianchino                                  26       8 18 11      15     \n",
       "12 Lezioni di chitarra                          19       7 12 10       9     \n",
       "13 Lezioni di inglese                           19       3 16  6      13     \n",
       "14 Manutenzione o revisione caldaia             29      11 18 14      15     \n",
       "15 Personal trainer                             15       5 10  7       8     \n",
       "16 Ristrutturazione bagno                       16       7  9 10       6     \n",
       "17 Ristrutturazione casa                        27       9 18 11      16     \n",
       "   num_rqst num_qt quote_per_request\n",
       "1  18       11     0.6111           \n",
       "2  37       33     0.8919           \n",
       "3  23       24     1.0435           \n",
       "4  16       13     0.8125           \n",
       "5  23       20     0.8696           \n",
       "6  18       18     1.0000           \n",
       "7  20       14     0.7000           \n",
       "8  28       20     0.7143           \n",
       "9  18       19     1.0556           \n",
       "10 18       28     1.5556           \n",
       "11 20       30     1.5000           \n",
       "12 21       12     0.5714           \n",
       "13 23       15     0.6522           \n",
       "14 23       25     1.0870           \n",
       "15 14       10     0.7143           \n",
       "16 27       17     0.6296           \n",
       "17 28       29     1.0357           "
      ]
     },
     "metadata": {},
     "output_type": "display_data"
    },
    {
     "name": "stdout",
     "output_type": "stream",
     "text": [
      "[1] 17\n"
     ]
    }
   ],
   "source": [
    "print(nrow(data))\n",
    "# Con questo comando rimuoviamo la quarta riga dal dataset\n",
    "data <- data[-4,]\n",
    "data\n",
    "print(nrow(data))"
   ]
  },
  {
   "cell_type": "markdown",
   "metadata": {},
   "source": [
    "Creo un'altra colonna che rappresenta il numero di richieste per numero di preventivi. La funzione **round** ci permette di avere lo stesso numero di decimali della colonna **quote_per_request**"
   ]
  },
  {
   "cell_type": "code",
   "execution_count": 5,
   "metadata": {},
   "outputs": [],
   "source": [
    "data$request_per_quote <- round(data$num_rqst/data$num_qt, 4)"
   ]
  },
  {
   "cell_type": "markdown",
   "metadata": {},
   "source": [
    "La funzione ggplot della libreria ggplot2 permette di elaborare in maniera pratica dei grafici di ogni tipo, grazie al fatto che da la possibilità di customizzare e di aggiungere layer al proprio grafico.\n",
    "In questo caso siamo interessati alla distribuzione di una variabile continua, dunque aggiungo **geom_density** per iniziare ad avere un'idea più precisa su come sono distribuiti i dati della variabile request_per_quote."
   ]
  },
  {
   "cell_type": "code",
   "execution_count": 6,
   "metadata": {},
   "outputs": [
    {
     "data": {
      "image/png": "[encoded data removed]",
      "text/plain": [
       "plot without title"
      ]
     },
     "metadata": {},
     "output_type": "display_data"
    }
   ],
   "source": [
    "# A prima vista, la distribuzione non si discosta troppo dalla normale\n",
    "data %>% ggplot(aes(data$request_per_quote)) + \n",
    "  geom_density()"
   ]
  },
  {
   "cell_type": "markdown",
   "metadata": {},
   "source": [
    "Con il seguente codice calcolo le principali grandezze statistiche di una distribuzione (media e deviazione standard) per:\n",
    "- numero richieste;\n",
    "- numero preventivi;\n",
    "- quote per request;\n",
    "- request per quote;"
   ]
  },
  {
   "cell_type": "code",
   "execution_count": 7,
   "metadata": {},
   "outputs": [
    {
     "data": {
      "text/html": [
       "<table>\n",
       "<caption>A tibble: 1 × 8</caption>\n",
       "<thead>\n",
       "\t<tr><th scope=col>avg_quote</th><th scope=col>avg_rqst</th><th scope=col>avg_qpr</th><th scope=col>avg_rpq</th><th scope=col>sd_quote</th><th scope=col>sd_rqst</th><th scope=col>sd_qpr</th><th scope=col>sd_rpq</th></tr>\n",
       "\t<tr><th scope=col>&lt;dbl&gt;</th><th scope=col>&lt;dbl&gt;</th><th scope=col>&lt;dbl&gt;</th><th scope=col>&lt;dbl&gt;</th><th scope=col>&lt;dbl&gt;</th><th scope=col>&lt;dbl&gt;</th><th scope=col>&lt;dbl&gt;</th><th scope=col>&lt;dbl&gt;</th></tr>\n",
       "</thead>\n",
       "<tbody>\n",
       "\t<tr><td>19.88235</td><td>22.05882</td><td>0.9084882</td><td>1.196429</td><td>7.175325</td><td>5.584248</td><td>0.2894338</td><td>0.3341797</td></tr>\n",
       "</tbody>\n",
       "</table>\n"
      ],
      "text/latex": [
       "A tibble: 1 × 8\n",
       "\\begin{tabular}{r|llllllll}\n",
       " avg\\_quote & avg\\_rqst & avg\\_qpr & avg\\_rpq & sd\\_quote & sd\\_rqst & sd\\_qpr & sd\\_rpq\\\\\n",
       " <dbl> & <dbl> & <dbl> & <dbl> & <dbl> & <dbl> & <dbl> & <dbl>\\\\\n",
       "\\hline\n",
       "\t 19.88235 & 22.05882 & 0.9084882 & 1.196429 & 7.175325 & 5.584248 & 0.2894338 & 0.3341797\\\\\n",
       "\\end{tabular}\n"
      ],
      "text/markdown": [
       "\n",
       "A tibble: 1 × 8\n",
       "\n",
       "| avg_quote &lt;dbl&gt; | avg_rqst &lt;dbl&gt; | avg_qpr &lt;dbl&gt; | avg_rpq &lt;dbl&gt; | sd_quote &lt;dbl&gt; | sd_rqst &lt;dbl&gt; | sd_qpr &lt;dbl&gt; | sd_rpq &lt;dbl&gt; |\n",
       "|---|---|---|---|---|---|---|---|\n",
       "| 19.88235 | 22.05882 | 0.9084882 | 1.196429 | 7.175325 | 5.584248 | 0.2894338 | 0.3341797 |\n",
       "\n"
      ],
      "text/plain": [
       "  avg_quote avg_rqst avg_qpr   avg_rpq  sd_quote sd_rqst  sd_qpr    sd_rpq   \n",
       "1 19.88235  22.05882 0.9084882 1.196429 7.175325 5.584248 0.2894338 0.3341797"
      ]
     },
     "metadata": {},
     "output_type": "display_data"
    }
   ],
   "source": [
    "stat <- data %>% \n",
    "  summarise(avg_quote = mean(num_qt),\n",
    "            avg_rqst = mean(num_rqst),\n",
    "            avg_qpr = mean(quote_per_request),\n",
    "            avg_rpq = mean(request_per_quote),\n",
    "            sd_quote = sd(num_qt),\n",
    "            sd_rqst = sd(num_rqst),\n",
    "            sd_qpr = sd(quote_per_request),\n",
    "            sd_rpq = sd(request_per_quote))\n",
    "stat"
   ]
  },
  {
   "cell_type": "markdown",
   "metadata": {},
   "source": [
    "Dalle medie si evince che abbiamo più richieste che preventivi in media. Ciò può significare che alcune richieste sono ancora in pending e devono essere prese in carico dal professionista di riferimento. La deviazione standard ci indica che abbiamo più variabilità nella distribuzione delle quote che in quella delle richieste. Ha senso perchè un professionista prima di utilizzare un pacchetto per il preventivo deve valutarne bene la convenienza e in base alle caratteristiche intrinseche del servizio è possibile che ci siano meno professionisti disposti a comprare/utilizzare i pacchetti."
   ]
  },
  {
   "cell_type": "markdown",
   "metadata": {},
   "source": [
    "Mi estraggo una lista con i valori della media e della deviazione standard per la variabile **request_per_quote**"
   ]
  },
  {
   "cell_type": "code",
   "execution_count": 8,
   "metadata": {},
   "outputs": [
    {
     "data": {
      "text/html": [
       "<dl>\n",
       "\t<dt>$media</dt>\n",
       "\t\t<dd>1.19642941176471</dd>\n",
       "\t<dt>$deviazione_standard</dt>\n",
       "\t\t<dd>0.334179741615021</dd>\n",
       "</dl>\n"
      ],
      "text/latex": [
       "\\begin{description}\n",
       "\\item[\\$media] 1.19642941176471\n",
       "\\item[\\$deviazione\\_standard] 0.334179741615021\n",
       "\\end{description}\n"
      ],
      "text/markdown": [
       "$media\n",
       ":   1.19642941176471\n",
       "$deviazione_standard\n",
       ":   0.334179741615021\n",
       "\n",
       "\n"
      ],
      "text/plain": [
       "$media\n",
       "[1] 1.196429\n",
       "\n",
       "$deviazione_standard\n",
       "[1] 0.3341797\n"
      ]
     },
     "metadata": {},
     "output_type": "display_data"
    }
   ],
   "source": [
    "values <- c(stat$avg_rpq, stat$sd_rpq)\n",
    "keys <- c('media', 'deviazione_standard')\n",
    "distribution <- setNames(as.list(values), keys)\n",
    "distribution"
   ]
  },
  {
   "cell_type": "markdown",
   "metadata": {},
   "source": [
    "Oltre al grafico che abbiamo visto, anche i numeri potrebbero indicarci che si tratta di una distribuzione normale (media e deviazione standard non si discostano troppo, rispettivamente, dai valori di 0 e 1)"
   ]
  },
  {
   "cell_type": "markdown",
   "metadata": {},
   "source": [
    "R ha il pregio di avere tante librerie utili ai fini statistici, una delle quali è **shapiro.test**.\n",
    "\n",
    "Il test di Shapiro-Wilk viene considerato uno dei test più indicativi per quanto riguarda la normalità, specialmente per piccoli campioni, come accade in questo caso. L'ipotesi nulla dal quale parte questo test è che la distribuzione sia normale.\n"
   ]
  },
  {
   "cell_type": "code",
   "execution_count": 9,
   "metadata": {},
   "outputs": [
    {
     "data": {
      "text/plain": [
       "\n",
       "\tShapiro-Wilk normality test\n",
       "\n",
       "data:  data$request_per_quote\n",
       "W = 0.95522, p-value = 0.5441\n"
      ]
     },
     "metadata": {},
     "output_type": "display_data"
    }
   ],
   "source": [
    "shapiro.test(data$request_per_quote)"
   ]
  },
  {
   "cell_type": "markdown",
   "metadata": {},
   "source": [
    "Il p-value decisamente maggiore di 0.05 (livello di significatività utilizzato per convenzione) ci porta a non essere in grado si smentire l’ipotesi nulla, dunque possiamo concludere che la distribuzione normale è appropriata per questo campione. Avrei potuto utilizzare anche la distribuzione gamma, perchè la variabile **request_per_quote** può assumere solo valori maggiori di zero."
   ]
  },
  {
   "cell_type": "markdown",
   "metadata": {},
   "source": [
    "Il fatto che la distribuzione sia normale ci porta a dire che i valori tendono a concentrarsi in un unico punto (il valore atteso, che è 1,19). Di conseguenza possiamo sostenere che per ogni servizio ci sono in media più richieste che preventivi. Basandoci su questo piccolo campione quindi si potrebbe sostenere che è necessario intervenire per fare in modo che a tutte le richieste ci sia un seguito (preventivo) in modo da non disincentivare il cliente all'utilizzo del portale ProntoPro a causa dei tempi di attesa. In un caso come questo la cosa migliore da fare è incentivare il libero professionista ad acquistare pacchetti e soprattutto a utilizzarli per colmare il gap tra il numero richieste e quello dei preventivi."
   ]
  },
  {
   "cell_type": "markdown",
   "metadata": {},
   "source": [
    "Un'ulteriore conferma della normalità della distribuzione la possiamo avere osservando i dati tramite il qq plot. Come possiamo vedere le osservazioni si trovano approssimativamente sulla retta e all'interno dell'area grigia (intervallo di confidenza)"
   ]
  },
  {
   "cell_type": "code",
   "execution_count": 10,
   "metadata": {},
   "outputs": [
    {
     "data": {
      "image/png": "[encoded data removed]",
      "text/plain": [
       "plot without title"
      ]
     },
     "metadata": {},
     "output_type": "display_data"
    }
   ],
   "source": [
    "ggqqplot(data$request_per_quote)"
   ]
  },
  {
   "cell_type": "markdown",
   "metadata": {},
   "source": [
    "Con il one-sample **t-test** possiamo verificare se siamo in grado concludere che il valore atteso della variabile **quote_per_request** è diverso da 1 (come indicato con il parametro mu).\n",
    "In questo caso, basandoci sul sample a nostra disposizione, non possiamo concludere che la media sia diversa da 1. \n",
    "Questo potrebbe voler dire che, se consideriamo una popolazione che tende all'infinito, a ogni richiesta ci aspettiamo che un professionista faccia un preventivo (quote_per_request = 1)."
   ]
  },
  {
   "cell_type": "code",
   "execution_count": 11,
   "metadata": {},
   "outputs": [
    {
     "data": {
      "text/plain": [
       "\n",
       "\tOne Sample t-test\n",
       "\n",
       "data:  data$quote_per_request\n",
       "t = -1.3036, df = 16, p-value = 0.2108\n",
       "alternative hypothesis: true mean is not equal to 1\n",
       "95 percent confidence interval:\n",
       " 0.7596751 1.0573014\n",
       "sample estimates:\n",
       "mean of x \n",
       "0.9084882 \n"
      ]
     },
     "metadata": {},
     "output_type": "display_data"
    }
   ],
   "source": [
    "t.test(data$quote_per_request, mu = 1)"
   ]
  },
  {
   "cell_type": "markdown",
   "metadata": {},
   "source": [
    "Per avere una visione più chiara di quelle che sono le performance dei servizi ho ritenuto opportuno dividere gli stessi in due categorie:\n",
    "- Casa;\n",
    "- Benessere/Hobby;"
   ]
  },
  {
   "cell_type": "markdown",
   "metadata": {},
   "source": [
    "Prima di tutto creo due vettori di stringhe. Ciascun vettore contiene tutti i servizi che appartengono alla categoria assegnatagli."
   ]
  },
  {
   "cell_type": "code",
   "execution_count": 12,
   "metadata": {},
   "outputs": [],
   "source": [
    "casa <- c(\"Antifurto e allarme\",                      \n",
    "          \"Certificato conformità impianto elettrico\",   \n",
    "          \"Certificazione energetica\",                  \n",
    "          \"Decoratore pareti interne\",                   \n",
    "          \"Elettricista\",                                \n",
    "          \"Idraulico\",                                   \n",
    "          \"Imbianchino\",                                 \n",
    "          \"Manutenzione o revisione caldaia\",            \n",
    "          \"Ristrutturazione bagno\",                    \n",
    "          \"Ristrutturazione casa\"\n",
    "          )\n",
    "\n",
    "benessere_hobby <- c(\"Catering e banqueting\", \n",
    "                     \"Consulente per l'alimentazione/Nutrizionista\",\n",
    "                     \"Dog sitter\",\n",
    "                     \"Fotografo per eventi\",\n",
    "                     \"Lezioni di chitarra\",                         \n",
    "                     \"Lezioni di inglese\",\n",
    "                     \"Personal trainer\"\n",
    "                     )"
   ]
  },
  {
   "cell_type": "markdown",
   "metadata": {},
   "source": [
    "Utilizzando la funzione **mutate** della libreria **dplyr** possiamo aggiungere una colonna al nostro dataset. All'interno della funzione mutate utilizzo la funzione **case_when** per assegnare i valori alla nuova colonna (categoria) basandomi sui valori della colonna servizio."
   ]
  },
  {
   "cell_type": "code",
   "execution_count": 13,
   "metadata": {},
   "outputs": [
    {
     "data": {
      "text/html": [
       "<table>\n",
       "<caption>A tibble: 17 × 11</caption>\n",
       "<thead>\n",
       "\t<tr><th scope=col>servizio</th><th scope=col>num_pro</th><th scope=col>M</th><th scope=col>F</th><th scope=col>prov_si</th><th scope=col>prov_no</th><th scope=col>num_rqst</th><th scope=col>num_qt</th><th scope=col>quote_per_request</th><th scope=col>request_per_quote</th><th scope=col>categoria</th></tr>\n",
       "\t<tr><th scope=col>&lt;chr&gt;</th><th scope=col>&lt;int&gt;</th><th scope=col>&lt;int&gt;</th><th scope=col>&lt;int&gt;</th><th scope=col>&lt;int&gt;</th><th scope=col>&lt;int&gt;</th><th scope=col>&lt;int&gt;</th><th scope=col>&lt;int&gt;</th><th scope=col>&lt;dbl&gt;</th><th scope=col>&lt;dbl&gt;</th><th scope=col>&lt;chr&gt;</th></tr>\n",
       "</thead>\n",
       "<tbody>\n",
       "\t<tr><td>Antifurto e allarme                         </td><td>10</td><td> 3</td><td> 7</td><td> 6</td><td> 4</td><td>18</td><td>11</td><td>0.6111</td><td>1.6364</td><td>Casa           </td></tr>\n",
       "\t<tr><td>Catering e banqueting                       </td><td>31</td><td> 9</td><td>22</td><td>15</td><td>16</td><td>37</td><td>33</td><td>0.8919</td><td>1.1212</td><td>Benessere/Hobby</td></tr>\n",
       "\t<tr><td>Certificato conformità impianto elettrico   </td><td>22</td><td>10</td><td>12</td><td>12</td><td>10</td><td>23</td><td>24</td><td>1.0435</td><td>0.9583</td><td>Casa           </td></tr>\n",
       "\t<tr><td>Certificazione energetica                   </td><td>19</td><td> 4</td><td>15</td><td> 8</td><td>11</td><td>16</td><td>13</td><td>0.8125</td><td>1.2308</td><td>Casa           </td></tr>\n",
       "\t<tr><td>Consulente per l'alimentazione/Nutrizionista</td><td>24</td><td>10</td><td>14</td><td>12</td><td>12</td><td>23</td><td>20</td><td>0.8696</td><td>1.1500</td><td>Benessere/Hobby</td></tr>\n",
       "\t<tr><td>Decoratore pareti interne                   </td><td>14</td><td> 8</td><td> 6</td><td> 8</td><td> 6</td><td>18</td><td>18</td><td>1.0000</td><td>1.0000</td><td>Casa           </td></tr>\n",
       "\t<tr><td>Dog sitter                                  </td><td>16</td><td> 7</td><td> 9</td><td>10</td><td> 6</td><td>20</td><td>14</td><td>0.7000</td><td>1.4286</td><td>Benessere/Hobby</td></tr>\n",
       "\t<tr><td>Elettricista                                </td><td>20</td><td> 8</td><td>12</td><td>10</td><td>10</td><td>28</td><td>20</td><td>0.7143</td><td>1.4000</td><td>Casa           </td></tr>\n",
       "\t<tr><td>Fotografo per eventi                        </td><td>21</td><td> 6</td><td>15</td><td>10</td><td>11</td><td>18</td><td>19</td><td>1.0556</td><td>0.9474</td><td>Benessere/Hobby</td></tr>\n",
       "\t<tr><td>Idraulico                                   </td><td>22</td><td> 8</td><td>14</td><td>11</td><td>11</td><td>18</td><td>28</td><td>1.5556</td><td>0.6429</td><td>Casa           </td></tr>\n",
       "\t<tr><td>Imbianchino                                 </td><td>26</td><td> 8</td><td>18</td><td>11</td><td>15</td><td>20</td><td>30</td><td>1.5000</td><td>0.6667</td><td>Casa           </td></tr>\n",
       "\t<tr><td>Lezioni di chitarra                         </td><td>19</td><td> 7</td><td>12</td><td>10</td><td> 9</td><td>21</td><td>12</td><td>0.5714</td><td>1.7500</td><td>Benessere/Hobby</td></tr>\n",
       "\t<tr><td>Lezioni di inglese                          </td><td>19</td><td> 3</td><td>16</td><td> 6</td><td>13</td><td>23</td><td>15</td><td>0.6522</td><td>1.5333</td><td>Benessere/Hobby</td></tr>\n",
       "\t<tr><td>Manutenzione o revisione caldaia            </td><td>29</td><td>11</td><td>18</td><td>14</td><td>15</td><td>23</td><td>25</td><td>1.0870</td><td>0.9200</td><td>Casa           </td></tr>\n",
       "\t<tr><td>Personal trainer                            </td><td>15</td><td> 5</td><td>10</td><td> 7</td><td> 8</td><td>14</td><td>10</td><td>0.7143</td><td>1.4000</td><td>Benessere/Hobby</td></tr>\n",
       "\t<tr><td>Ristrutturazione bagno                      </td><td>16</td><td> 7</td><td> 9</td><td>10</td><td> 6</td><td>27</td><td>17</td><td>0.6296</td><td>1.5882</td><td>Casa           </td></tr>\n",
       "\t<tr><td>Ristrutturazione casa                       </td><td>27</td><td> 9</td><td>18</td><td>11</td><td>16</td><td>28</td><td>29</td><td>1.0357</td><td>0.9655</td><td>Casa           </td></tr>\n",
       "</tbody>\n",
       "</table>\n"
      ],
      "text/latex": [
       "A tibble: 17 × 11\n",
       "\\begin{tabular}{r|lllllllllll}\n",
       " servizio & num\\_pro & M & F & prov\\_si & prov\\_no & num\\_rqst & num\\_qt & quote\\_per\\_request & request\\_per\\_quote & categoria\\\\\n",
       " <chr> & <int> & <int> & <int> & <int> & <int> & <int> & <int> & <dbl> & <dbl> & <chr>\\\\\n",
       "\\hline\n",
       "\t Antifurto e allarme                          & 10 &  3 &  7 &  6 &  4 & 18 & 11 & 0.6111 & 1.6364 & Casa           \\\\\n",
       "\t Catering e banqueting                        & 31 &  9 & 22 & 15 & 16 & 37 & 33 & 0.8919 & 1.1212 & Benessere/Hobby\\\\\n",
       "\t Certificato conformità impianto elettrico    & 22 & 10 & 12 & 12 & 10 & 23 & 24 & 1.0435 & 0.9583 & Casa           \\\\\n",
       "\t Certificazione energetica                    & 19 &  4 & 15 &  8 & 11 & 16 & 13 & 0.8125 & 1.2308 & Casa           \\\\\n",
       "\t Consulente per l'alimentazione/Nutrizionista & 24 & 10 & 14 & 12 & 12 & 23 & 20 & 0.8696 & 1.1500 & Benessere/Hobby\\\\\n",
       "\t Decoratore pareti interne                    & 14 &  8 &  6 &  8 &  6 & 18 & 18 & 1.0000 & 1.0000 & Casa           \\\\\n",
       "\t Dog sitter                                   & 16 &  7 &  9 & 10 &  6 & 20 & 14 & 0.7000 & 1.4286 & Benessere/Hobby\\\\\n",
       "\t Elettricista                                 & 20 &  8 & 12 & 10 & 10 & 28 & 20 & 0.7143 & 1.4000 & Casa           \\\\\n",
       "\t Fotografo per eventi                         & 21 &  6 & 15 & 10 & 11 & 18 & 19 & 1.0556 & 0.9474 & Benessere/Hobby\\\\\n",
       "\t Idraulico                                    & 22 &  8 & 14 & 11 & 11 & 18 & 28 & 1.5556 & 0.6429 & Casa           \\\\\n",
       "\t Imbianchino                                  & 26 &  8 & 18 & 11 & 15 & 20 & 30 & 1.5000 & 0.6667 & Casa           \\\\\n",
       "\t Lezioni di chitarra                          & 19 &  7 & 12 & 10 &  9 & 21 & 12 & 0.5714 & 1.7500 & Benessere/Hobby\\\\\n",
       "\t Lezioni di inglese                           & 19 &  3 & 16 &  6 & 13 & 23 & 15 & 0.6522 & 1.5333 & Benessere/Hobby\\\\\n",
       "\t Manutenzione o revisione caldaia             & 29 & 11 & 18 & 14 & 15 & 23 & 25 & 1.0870 & 0.9200 & Casa           \\\\\n",
       "\t Personal trainer                             & 15 &  5 & 10 &  7 &  8 & 14 & 10 & 0.7143 & 1.4000 & Benessere/Hobby\\\\\n",
       "\t Ristrutturazione bagno                       & 16 &  7 &  9 & 10 &  6 & 27 & 17 & 0.6296 & 1.5882 & Casa           \\\\\n",
       "\t Ristrutturazione casa                        & 27 &  9 & 18 & 11 & 16 & 28 & 29 & 1.0357 & 0.9655 & Casa           \\\\\n",
       "\\end{tabular}\n"
      ],
      "text/markdown": [
       "\n",
       "A tibble: 17 × 11\n",
       "\n",
       "| servizio &lt;chr&gt; | num_pro &lt;int&gt; | M &lt;int&gt; | F &lt;int&gt; | prov_si &lt;int&gt; | prov_no &lt;int&gt; | num_rqst &lt;int&gt; | num_qt &lt;int&gt; | quote_per_request &lt;dbl&gt; | request_per_quote &lt;dbl&gt; | categoria &lt;chr&gt; |\n",
       "|---|---|---|---|---|---|---|---|---|---|---|\n",
       "| Antifurto e allarme                          | 10 |  3 |  7 |  6 |  4 | 18 | 11 | 0.6111 | 1.6364 | Casa            |\n",
       "| Catering e banqueting                        | 31 |  9 | 22 | 15 | 16 | 37 | 33 | 0.8919 | 1.1212 | Benessere/Hobby |\n",
       "| Certificato conformità impianto elettrico    | 22 | 10 | 12 | 12 | 10 | 23 | 24 | 1.0435 | 0.9583 | Casa            |\n",
       "| Certificazione energetica                    | 19 |  4 | 15 |  8 | 11 | 16 | 13 | 0.8125 | 1.2308 | Casa            |\n",
       "| Consulente per l'alimentazione/Nutrizionista | 24 | 10 | 14 | 12 | 12 | 23 | 20 | 0.8696 | 1.1500 | Benessere/Hobby |\n",
       "| Decoratore pareti interne                    | 14 |  8 |  6 |  8 |  6 | 18 | 18 | 1.0000 | 1.0000 | Casa            |\n",
       "| Dog sitter                                   | 16 |  7 |  9 | 10 |  6 | 20 | 14 | 0.7000 | 1.4286 | Benessere/Hobby |\n",
       "| Elettricista                                 | 20 |  8 | 12 | 10 | 10 | 28 | 20 | 0.7143 | 1.4000 | Casa            |\n",
       "| Fotografo per eventi                         | 21 |  6 | 15 | 10 | 11 | 18 | 19 | 1.0556 | 0.9474 | Benessere/Hobby |\n",
       "| Idraulico                                    | 22 |  8 | 14 | 11 | 11 | 18 | 28 | 1.5556 | 0.6429 | Casa            |\n",
       "| Imbianchino                                  | 26 |  8 | 18 | 11 | 15 | 20 | 30 | 1.5000 | 0.6667 | Casa            |\n",
       "| Lezioni di chitarra                          | 19 |  7 | 12 | 10 |  9 | 21 | 12 | 0.5714 | 1.7500 | Benessere/Hobby |\n",
       "| Lezioni di inglese                           | 19 |  3 | 16 |  6 | 13 | 23 | 15 | 0.6522 | 1.5333 | Benessere/Hobby |\n",
       "| Manutenzione o revisione caldaia             | 29 | 11 | 18 | 14 | 15 | 23 | 25 | 1.0870 | 0.9200 | Casa            |\n",
       "| Personal trainer                             | 15 |  5 | 10 |  7 |  8 | 14 | 10 | 0.7143 | 1.4000 | Benessere/Hobby |\n",
       "| Ristrutturazione bagno                       | 16 |  7 |  9 | 10 |  6 | 27 | 17 | 0.6296 | 1.5882 | Casa            |\n",
       "| Ristrutturazione casa                        | 27 |  9 | 18 | 11 | 16 | 28 | 29 | 1.0357 | 0.9655 | Casa            |\n",
       "\n"
      ],
      "text/plain": [
       "   servizio                                     num_pro M  F  prov_si prov_no\n",
       "1  Antifurto e allarme                          10       3  7  6       4     \n",
       "2  Catering e banqueting                        31       9 22 15      16     \n",
       "3  Certificato conformità impianto elettrico    22      10 12 12      10     \n",
       "4  Certificazione energetica                    19       4 15  8      11     \n",
       "5  Consulente per l'alimentazione/Nutrizionista 24      10 14 12      12     \n",
       "6  Decoratore pareti interne                    14       8  6  8       6     \n",
       "7  Dog sitter                                   16       7  9 10       6     \n",
       "8  Elettricista                                 20       8 12 10      10     \n",
       "9  Fotografo per eventi                         21       6 15 10      11     \n",
       "10 Idraulico                                    22       8 14 11      11     \n",
       "11 Imbianchino                                  26       8 18 11      15     \n",
       "12 Lezioni di chitarra                          19       7 12 10       9     \n",
       "13 Lezioni di inglese                           19       3 16  6      13     \n",
       "14 Manutenzione o revisione caldaia             29      11 18 14      15     \n",
       "15 Personal trainer                             15       5 10  7       8     \n",
       "16 Ristrutturazione bagno                       16       7  9 10       6     \n",
       "17 Ristrutturazione casa                        27       9 18 11      16     \n",
       "   num_rqst num_qt quote_per_request request_per_quote categoria      \n",
       "1  18       11     0.6111            1.6364            Casa           \n",
       "2  37       33     0.8919            1.1212            Benessere/Hobby\n",
       "3  23       24     1.0435            0.9583            Casa           \n",
       "4  16       13     0.8125            1.2308            Casa           \n",
       "5  23       20     0.8696            1.1500            Benessere/Hobby\n",
       "6  18       18     1.0000            1.0000            Casa           \n",
       "7  20       14     0.7000            1.4286            Benessere/Hobby\n",
       "8  28       20     0.7143            1.4000            Casa           \n",
       "9  18       19     1.0556            0.9474            Benessere/Hobby\n",
       "10 18       28     1.5556            0.6429            Casa           \n",
       "11 20       30     1.5000            0.6667            Casa           \n",
       "12 21       12     0.5714            1.7500            Benessere/Hobby\n",
       "13 23       15     0.6522            1.5333            Benessere/Hobby\n",
       "14 23       25     1.0870            0.9200            Casa           \n",
       "15 14       10     0.7143            1.4000            Benessere/Hobby\n",
       "16 27       17     0.6296            1.5882            Casa           \n",
       "17 28       29     1.0357            0.9655            Casa           "
      ]
     },
     "metadata": {},
     "output_type": "display_data"
    }
   ],
   "source": [
    "data <- data %>% mutate(categoria=case_when(\n",
    "  servizio %in% casa ~ \"Casa\",\n",
    "  servizio %in% benessere_hobby ~ \"Benessere/Hobby\"\n",
    "))\n",
    "data"
   ]
  },
  {
   "cell_type": "markdown",
   "metadata": {},
   "source": [
    "Adesso vediamo un pò di 'basic statistics', raggruppando per categoria.\n",
    "In questo caso ho considerato la variabile **quote_per_request**. La variabile in questione rappresenta una fotografia che ci permette di rispondere alla domanda 'quante richieste si convertono in preventivi?'\n",
    "\n",
    "Dai numeri che ho ricavato si evince che per i servizi per la casa la domanda di richieste trova un seguito maggiore in termini di preventivi, però abbiamo anche maggiore variabilità. Può essere dovuto dal fatto che ci sono attività che hanno più mercato rispetto ad altre all'interno della categoria casa. \n",
    "Vedendo questi numeri si potrebbe dire che le attività riguardanti i servizi per la casa sono quelle che attraggono di più i professionisti.\n",
    "Ovviamente può succedere anche che per una richiesta ci sia più di un preventivo. Questo può essere potenzialmente dannoso perchè il professionista che utilizza un pacchetto per fare un preventivo e poi non ottiene l'incarico non sarà propenso a riutilizzare il servizio. "
   ]
  },
  {
   "cell_type": "code",
   "execution_count": 14,
   "metadata": {},
   "outputs": [
    {
     "data": {
      "text/html": [
       "<table>\n",
       "<caption>A tibble: 2 × 4</caption>\n",
       "<thead>\n",
       "\t<tr><th scope=col>categoria</th><th scope=col>n</th><th scope=col>avg_qpr</th><th scope=col>sd_qpr</th></tr>\n",
       "\t<tr><th scope=col>&lt;chr&gt;</th><th scope=col>&lt;int&gt;</th><th scope=col>&lt;dbl&gt;</th><th scope=col>&lt;dbl&gt;</th></tr>\n",
       "</thead>\n",
       "<tbody>\n",
       "\t<tr><td>Benessere/Hobby</td><td> 7</td><td>0.7792857</td><td>0.1668656</td></tr>\n",
       "\t<tr><td>Casa           </td><td>10</td><td>0.9989300</td><td>0.3290788</td></tr>\n",
       "</tbody>\n",
       "</table>\n"
      ],
      "text/latex": [
       "A tibble: 2 × 4\n",
       "\\begin{tabular}{r|llll}\n",
       " categoria & n & avg\\_qpr & sd\\_qpr\\\\\n",
       " <chr> & <int> & <dbl> & <dbl>\\\\\n",
       "\\hline\n",
       "\t Benessere/Hobby &  7 & 0.7792857 & 0.1668656\\\\\n",
       "\t Casa            & 10 & 0.9989300 & 0.3290788\\\\\n",
       "\\end{tabular}\n"
      ],
      "text/markdown": [
       "\n",
       "A tibble: 2 × 4\n",
       "\n",
       "| categoria &lt;chr&gt; | n &lt;int&gt; | avg_qpr &lt;dbl&gt; | sd_qpr &lt;dbl&gt; |\n",
       "|---|---|---|---|\n",
       "| Benessere/Hobby |  7 | 0.7792857 | 0.1668656 |\n",
       "| Casa            | 10 | 0.9989300 | 0.3290788 |\n",
       "\n"
      ],
      "text/plain": [
       "  categoria       n  avg_qpr   sd_qpr   \n",
       "1 Benessere/Hobby  7 0.7792857 0.1668656\n",
       "2 Casa            10 0.9989300 0.3290788"
      ]
     },
     "metadata": {},
     "output_type": "display_data"
    }
   ],
   "source": [
    "stat2 <- data %>% \n",
    "  group_by(categoria) %>% \n",
    "  summarize(n = n(),\n",
    "            avg_qpr = mean(quote_per_request),\n",
    "            sd_qpr = sd(quote_per_request)\n",
    "            )\n",
    "stat2"
   ]
  },
  {
   "cell_type": "markdown",
   "metadata": {},
   "source": [
    "Con il seguente plot voglio rappresentare la differenza in **quote_per_request** tra le 2 categorie. L'icona a stella rappresenta la media delle due distribuzioni. Possiamo notare come per 6 servizi abbiamo più preventivi che richieste. Non ci sorprende che questo accada per i servizi della casa, visto che c'è sia più domanda ma soprattutto più offerta per quel tipo di servizi."
   ]
  },
  {
   "cell_type": "code",
   "execution_count": 15,
   "metadata": {
    "scrolled": true
   },
   "outputs": [
    {
     "data": {
      "image/png": "[encoded data removed]",
      "text/plain": [
       "plot without title"
      ]
     },
     "metadata": {},
     "output_type": "display_data"
    }
   ],
   "source": [
    "data %>% ggplot(aes(x = categoria, y = quote_per_request, color= categoria)) +\n",
    "  geom_point(size = 3) +\n",
    "  geom_point(data = stat2, aes(x = categoria, y = avg_qpr), size = 7, shape = 8)\n",
    "  "
   ]
  },
  {
   "cell_type": "markdown",
   "metadata": {},
   "source": [
    "Come già fatto in precedenza posso effettuare un t-test per verificare se la differenza tra le medie per le due categorie è statisticamente significativa. Prima mi ricavo i singoli intervalli di confidenza all'interno di ogni gruppo."
   ]
  },
  {
   "cell_type": "code",
   "execution_count": 16,
   "metadata": {},
   "outputs": [],
   "source": [
    "casa <- data  %>% filter(categoria == 'Casa')"
   ]
  },
  {
   "cell_type": "markdown",
   "metadata": {},
   "source": [
    "Per la casa non possiamo arrivare alla conclusione che la variabile **quote_per_request** abbia un valore atteso diverso da 1. Come già spiegato in precedenza, in linea teorica rappresenta una situazione ideale."
   ]
  },
  {
   "cell_type": "code",
   "execution_count": 17,
   "metadata": {},
   "outputs": [
    {
     "data": {
      "text/plain": [
       "\n",
       "\tOne Sample t-test\n",
       "\n",
       "data:  casa$quote_per_request\n",
       "t = -0.010282, df = 9, p-value = 0.992\n",
       "alternative hypothesis: true mean is not equal to 1\n",
       "95 percent confidence interval:\n",
       " 0.7635212 1.2343388\n",
       "sample estimates:\n",
       "mean of x \n",
       "  0.99893 \n"
      ]
     },
     "metadata": {},
     "output_type": "display_data"
    }
   ],
   "source": [
    "t.test(casa$quote_per_request, mu = 1)"
   ]
  },
  {
   "cell_type": "code",
   "execution_count": 18,
   "metadata": {},
   "outputs": [],
   "source": [
    "bh <- data  %>% filter(categoria == 'Benessere/Hobby')"
   ]
  },
  {
   "cell_type": "markdown",
   "metadata": {},
   "source": [
    "E' interessante notare che per la categoria Benessere/Hobby possiamo prendere per buona l'ipotesi alternativa (la media non è uguale a 1 e in questo caso è minore)\n",
    "Questo può voler dire che c'è da lavorare in termini di conversione da richieste a preventivi. Una soluzione potrebbe essere quella di offrire pacchetti speciali ai professionisti per la fruizione di servizi di benessere/hobby."
   ]
  },
  {
   "cell_type": "code",
   "execution_count": 19,
   "metadata": {},
   "outputs": [
    {
     "data": {
      "text/plain": [
       "\n",
       "\tOne Sample t-test\n",
       "\n",
       "data:  bh$quote_per_request\n",
       "t = -3.4996, df = 6, p-value = 0.01283\n",
       "alternative hypothesis: true mean is not equal to 1\n",
       "95 percent confidence interval:\n",
       " 0.6249607 0.9336107\n",
       "sample estimates:\n",
       "mean of x \n",
       "0.7792857 \n"
      ]
     },
     "metadata": {},
     "output_type": "display_data"
    }
   ],
   "source": [
    "t.test(bh$quote_per_request, mu = 1)"
   ]
  },
  {
   "cell_type": "markdown",
   "metadata": {},
   "source": [
    "E infine verifico che la differenza tra le medie sia statisticamente significativa"
   ]
  },
  {
   "cell_type": "code",
   "execution_count": 20,
   "metadata": {},
   "outputs": [
    {
     "data": {
      "text/plain": [
       "\n",
       "\tWelch Two Sample t-test\n",
       "\n",
       "data:  data$quote_per_request by data$categoria\n",
       "t = -1.805, df = 13.994, p-value = 0.09262\n",
       "alternative hypothesis: true difference in means is not equal to 0\n",
       "95 percent confidence interval:\n",
       " -0.48064149  0.04135292\n",
       "sample estimates:\n",
       "mean in group Benessere/Hobby            mean in group Casa \n",
       "                    0.7792857                     0.9989300 \n"
      ]
     },
     "metadata": {},
     "output_type": "display_data"
    }
   ],
   "source": [
    "t.test(data$quote_per_request ~ data$categoria, data)"
   ]
  },
  {
   "cell_type": "markdown",
   "metadata": {},
   "source": [
    "Il valore 0 si trova nell intervallo di confidenza e il p value è maggiore di .05. Dunque non siamo in grado di arrivare alla conclusione che la differenza tra le medie della variabile quote_per_request tra le categorie servizi è diversa da 0."
   ]
  },
  {
   "cell_type": "markdown",
   "metadata": {},
   "source": [
    "# CONCLUSIONI "
   ]
  },
  {
   "cell_type": "markdown",
   "metadata": {},
   "source": [
    "Dall'analisi che ho condotto si possono trarre alcuni spunti interessanti per il business:\n",
    "\n",
    "- il valore atteso del numero di richieste per numero di preventivi tende a concentrarsi su un valore (1,19). Può voler dire che è necessario focalizzarsi sui pacchetti per incentivare i liberi professionisti a fare preventivi in modo da dare un riscontro a ogni cliente che manifesta interesse nell'utilizzo del portale ProntoPro;\n",
    "\n",
    "- con il sample a disposizione non siamo in grado di concludere che il numero di preventivi per numero di richieste (quote_per_request) sia diverso da 1. In teoria significa che per ogni richiesta abbiamo un preventivo (andrebbe in contrasto con quello sostenuto nel punto precedente). In questo caso un'analisi più accurata, per esempio dividendo i servizi in categorie, sembra la cosa più appropriata da fare. \n",
    "\n",
    "- la categoria Casa è più performante in termini di conversione da richiesta a preventivo rispetto alla categoria Benessere/Hobby. Questo sicuramente è dovuto dal fatto che i servizi per la casa sono servizi in qualche modo più necessari e generano più senso di urgenza rispetto a quelli che riguardano il benessere e il tempo libero. \n"
   ]
  },
  {
   "cell_type": "markdown",
   "metadata": {},
   "source": [
    "## Grazie per l'attenzione"
   ]
  },
  {
   "cell_type": "markdown",
   "metadata": {},
   "source": [
    "### Luca RIZZI"
   ]
  }
 ],
 "metadata": {
  "kernelspec": {
   "display_name": "R",
   "language": "R",
   "name": "ir"
  },
  "language_info": {
   "codemirror_mode": "r",
   "file_extension": ".r",
   "mimetype": "text/x-r-source",
   "name": "R",
   "pygments_lexer": "r",
   "version": "3.4.4"
  }
 },
 "nbformat": 4,
 "nbformat_minor": 2
}
